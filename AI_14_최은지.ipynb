{
  "cells": [
    {
      "cell_type": "markdown",
      "metadata": {
        "id": "view-in-github",
        "colab_type": "text"
      },
      "source": [
        "<a href=\"https://colab.research.google.com/github/eunjeechoi/AI_project/blob/main/AI_14_%EC%B5%9C%EC%9D%80%EC%A7%80.ipynb\" target=\"_parent\"><img src=\"https://colab.research.google.com/assets/colab-badge.svg\" alt=\"Open In Colab\"/></a>"
      ]
    },
    {
      "cell_type": "code",
      "execution_count": null,
      "id": "5e627975",
      "metadata": {
        "_kg_hide-input": true,
        "_kg_hide-output": true,
        "execution": {
          "iopub.execute_input": "2022-09-15T16:25:16.140590Z",
          "iopub.status.busy": "2022-09-15T16:25:16.139969Z",
          "iopub.status.idle": "2022-09-15T16:25:16.162030Z",
          "shell.execute_reply": "2022-09-15T16:25:16.160866Z"
        },
        "papermill": {
          "duration": 0.041176,
          "end_time": "2022-09-15T16:25:16.166547",
          "exception": false,
          "start_time": "2022-09-15T16:25:16.125371",
          "status": "completed"
        },
        "tags": [],
        "id": "5e627975",
        "outputId": "fc74af73-060b-4700-d1e6-98ed3d9b042e"
      },
      "outputs": [
        {
          "data": {
            "text/html": [
              "\n",
              "<style>\n",
              ".output_png {\n",
              "    display: table-cell;\n",
              "    text-align: center;\n",
              "    vertical-align: middle;\n",
              "    horizontal-align: middle;\n",
              "}\n",
              "h1,h2 {\n",
              "    text-align: center;\n",
              "    background-color: pink;\n",
              "    padding: 20px;\n",
              "    margin: 0;\n",
              "    color: black;\n",
              "    font-family: ariel;\n",
              "    border-radius: 80px\n",
              "}\n",
              "\n",
              "h3 {\n",
              "    text-align: center;\n",
              "    border-style: solid;\n",
              "    border-width: 3px;\n",
              "    padding: 12px;\n",
              "    margin: 0;\n",
              "    color: black;\n",
              "    font-family: ariel;\n",
              "    border-radius: 80px;\n",
              "    border-color: gold;\n",
              "}\n",
              "\n",
              "body, p {\n",
              "    font-family: ariel;\n",
              "    font-size: 15px;\n",
              "    color: charcoal;\n",
              "}\n",
              "div {\n",
              "    font-size: 14px;\n",
              "    margin: 0;\n",
              "\n",
              "}\n",
              "\n",
              "h4 {\n",
              "    padding: 0px;\n",
              "    margin: 0;\n",
              "    font-family: ariel;\n",
              "    color: purple;\n",
              "}\n",
              "</style>\n"
            ],
            "text/plain": [
              "<IPython.core.display.HTML object>"
            ]
          },
          "execution_count": 1,
          "metadata": {},
          "output_type": "execute_result"
        }
      ],
      "source": [
        "from IPython.core.display import HTML\n",
        "HTML(\"\"\"\n",
        "<style>\n",
        ".output_png {\n",
        "    display: table-cell;\n",
        "    text-align: center;\n",
        "    vertical-align: middle;\n",
        "    horizontal-align: middle;\n",
        "}\n",
        "h1,h2 {\n",
        "    text-align: center;\n",
        "    background-color: pink;\n",
        "    padding: 20px;\n",
        "    margin: 0;\n",
        "    color: black;\n",
        "    font-family: ariel;\n",
        "    border-radius: 80px\n",
        "}\n",
        "\n",
        "h3 {\n",
        "    text-align: center;\n",
        "    border-style: solid;\n",
        "    border-width: 3px;\n",
        "    padding: 12px;\n",
        "    margin: 0;\n",
        "    color: black;\n",
        "    font-family: ariel;\n",
        "    border-radius: 80px;\n",
        "    border-color: gold;\n",
        "}\n",
        "\n",
        "body, p {\n",
        "    font-family: ariel;\n",
        "    font-size: 15px;\n",
        "    color: charcoal;\n",
        "}\n",
        "div {\n",
        "    font-size: 14px;\n",
        "    margin: 0;\n",
        "\n",
        "}\n",
        "\n",
        "h4 {\n",
        "    padding: 0px;\n",
        "    margin: 0;\n",
        "    font-family: ariel;\n",
        "    color: purple;\n",
        "}\n",
        "</style>\n",
        "\"\"\")"
      ]
    },
    {
      "cell_type": "markdown",
      "id": "0171db93",
      "metadata": {
        "papermill": {
          "duration": 0.016356,
          "end_time": "2022-09-15T16:25:16.201048",
          "exception": false,
          "start_time": "2022-09-15T16:25:16.184692",
          "status": "completed"
        },
        "tags": [],
        "id": "0171db93"
      },
      "source": [
        "## **Introduction:**"
      ]
    },
    {
      "cell_type": "code",
      "execution_count": null,
      "id": "2c46d52e",
      "metadata": {
        "execution": {
          "iopub.execute_input": "2022-09-15T16:25:16.365319Z",
          "iopub.status.busy": "2022-09-15T16:25:16.364913Z",
          "iopub.status.idle": "2022-09-15T16:25:26.235578Z",
          "shell.execute_reply": "2022-09-15T16:25:26.234200Z"
        },
        "papermill": {
          "duration": 9.888096,
          "end_time": "2022-09-15T16:25:26.238636",
          "exception": false,
          "start_time": "2022-09-15T16:25:16.350540",
          "status": "completed"
        },
        "tags": [],
        "id": "2c46d52e",
        "outputId": "5c75db47-9174-4913-b888-d2fc343b0965"
      },
      "outputs": [
        {
          "name": "stderr",
          "output_type": "stream",
          "text": [
            "[nltk_data] Downloading package stopwords to /usr/share/nltk_data...\n",
            "[nltk_data]   Package stopwords is already up-to-date!\n",
            "[nltk_data] Downloading package punkt to /usr/share/nltk_data...\n",
            "[nltk_data]   Package punkt is already up-to-date!\n",
            "[nltk_data] Downloading package averaged_perceptron_tagger to\n",
            "[nltk_data]     /usr/share/nltk_data...\n",
            "[nltk_data]   Package averaged_perceptron_tagger is already up-to-\n",
            "[nltk_data]       date!\n",
            "[nltk_data] Downloading package wordnet to /usr/share/nltk_data...\n",
            "[nltk_data]   Package wordnet is already up-to-date!\n",
            "[nltk_data] Downloading package omw-1.4 to /usr/share/nltk_data...\n"
          ]
        }
      ],
      "source": [
        "import pandas as pd\n",
        "\n",
        "import matplotlib.pyplot as plt\n",
        "%matplotlib inline\n",
        "\n",
        "from matplotlib.ticker import MaxNLocator\n",
        "import matplotlib.gridspec as gridspec\n",
        "import matplotlib.patches as mpatches\n",
        "\n",
        "import seaborn as sns\n",
        "from sklearn.model_selection import train_test_split\n",
        "from sklearn.preprocessing import LabelEncoder\n",
        "from sklearn.metrics import confusion_matrix\n",
        "import sklearn.metrics as metrics\n",
        "from sklearn.manifold import TSNE\n",
        "from sklearn.feature_extraction.text import CountVectorizer, TfidfVectorizer\n",
        "from sklearn.decomposition import LatentDirichletAllocation, NMF\n",
        "from sklearn.metrics import (\n",
        "    precision_score, \n",
        "    recall_score, \n",
        "    f1_score, \n",
        "    classification_report,\n",
        "    accuracy_score\n",
        ")\n",
        "\n",
        "from keras.preprocessing.text import Tokenizer\n",
        "from keras.preprocessing.sequence import pad_sequences\n",
        "from keras.models import Sequential\n",
        "from keras.layers import (LSTM, \n",
        "                          Activation,\n",
        "                          Conv1D,\n",
        "                          MaxPooling1D,\n",
        "                          Embedding, \n",
        "                          BatchNormalization,\n",
        "                          Dense, \n",
        "                          TimeDistributed, \n",
        "                          Dropout, \n",
        "                          Bidirectional,\n",
        "                          Flatten, \n",
        "                          GlobalMaxPool1D)\n",
        "from keras import utils\n",
        "from keras.callbacks import ReduceLROnPlateau, EarlyStopping\n",
        "from keras.layers.embeddings import Embedding\n",
        "from keras.callbacks import ModelCheckpoint, ReduceLROnPlateau\n",
        "from keras.initializers import Constant\n",
        "from tensorflow.keras import optimizers\n",
        "\n",
        "from nltk.corpus import stopwords\n",
        "from nltk.stem import SnowballStemmer\n",
        "import nltk\n",
        "nltk.download('stopwords')\n",
        "nltk.download('punkt')\n",
        "nltk.download('averaged_perceptron_tagger')\n",
        "nltk.download('wordnet')\n",
        "from nltk.corpus import stopwords, wordnet\n",
        "from nltk.stem import WordNetLemmatizer\n",
        "from nltk.tokenize import word_tokenize\n",
        "from nltk.probability import FreqDist\n",
        "import nltk\n",
        "nltk.download('omw-1.4')\n",
        "\n",
        "import gensim\n",
        "from gensim.test.utils import common_texts\n",
        "from gensim.models import Word2Vec\n",
        "\n",
        "import string\n",
        "import re\n",
        "import numpy as np\n",
        "import os\n",
        "from collections import Counter\n",
        "import logging\n",
        "import time\n",
        "import pickle\n",
        "import itertools\n",
        "import random\n",
        "import datetime\n",
        "\n",
        "from PIL import Image\n",
        "from wordcloud import WordCloud, STOPWORDS, ImageColorGenerator\n",
        "from collections import Counter, defaultdict\n",
        "\n",
        "import warnings \n",
        "warnings.filterwarnings('ignore')\n",
        "\n",
        "logging.basicConfig(format='%(asctime)s : %(levelname)s : %(message)s', level=logging.INFO)\n",
        "\n",
        "from socket import socket"
      ]
    },
    {
      "cell_type": "code",
      "execution_count": null,
      "id": "de2a3117",
      "metadata": {
        "execution": {
          "iopub.execute_input": "2022-09-15T16:25:26.295326Z",
          "iopub.status.busy": "2022-09-15T16:25:26.294576Z",
          "iopub.status.idle": "2022-09-15T16:25:26.362660Z",
          "shell.execute_reply": "2022-09-15T16:25:26.361300Z"
        },
        "papermill": {
          "duration": 0.086023,
          "end_time": "2022-09-15T16:25:26.365409",
          "exception": false,
          "start_time": "2022-09-15T16:25:26.279386",
          "status": "completed"
        },
        "tags": [],
        "id": "de2a3117",
        "outputId": "ec33d382-e989-4c44-b082-b7cf00780156"
      },
      "outputs": [
        {
          "data": {
            "text/html": [
              "<div>\n",
              "<style scoped>\n",
              "    .dataframe tbody tr th:only-of-type {\n",
              "        vertical-align: middle;\n",
              "    }\n",
              "\n",
              "    .dataframe tbody tr th {\n",
              "        vertical-align: top;\n",
              "    }\n",
              "\n",
              "    .dataframe thead th {\n",
              "        text-align: right;\n",
              "    }\n",
              "</style>\n",
              "<table border=\"1\" class=\"dataframe\">\n",
              "  <thead>\n",
              "    <tr style=\"text-align: right;\">\n",
              "      <th></th>\n",
              "      <th>id</th>\n",
              "      <th>keyword</th>\n",
              "      <th>location</th>\n",
              "      <th>text</th>\n",
              "      <th>target</th>\n",
              "    </tr>\n",
              "  </thead>\n",
              "  <tbody>\n",
              "    <tr>\n",
              "      <th>0</th>\n",
              "      <td>1</td>\n",
              "      <td>NaN</td>\n",
              "      <td>NaN</td>\n",
              "      <td>Our Deeds are the Reason of this #earthquake M...</td>\n",
              "      <td>1</td>\n",
              "    </tr>\n",
              "    <tr>\n",
              "      <th>1</th>\n",
              "      <td>4</td>\n",
              "      <td>NaN</td>\n",
              "      <td>NaN</td>\n",
              "      <td>Forest fire near La Ronge Sask. Canada</td>\n",
              "      <td>1</td>\n",
              "    </tr>\n",
              "    <tr>\n",
              "      <th>2</th>\n",
              "      <td>5</td>\n",
              "      <td>NaN</td>\n",
              "      <td>NaN</td>\n",
              "      <td>All residents asked to 'shelter in place' are ...</td>\n",
              "      <td>1</td>\n",
              "    </tr>\n",
              "    <tr>\n",
              "      <th>3</th>\n",
              "      <td>6</td>\n",
              "      <td>NaN</td>\n",
              "      <td>NaN</td>\n",
              "      <td>13,000 people receive #wildfires evacuation or...</td>\n",
              "      <td>1</td>\n",
              "    </tr>\n",
              "    <tr>\n",
              "      <th>4</th>\n",
              "      <td>7</td>\n",
              "      <td>NaN</td>\n",
              "      <td>NaN</td>\n",
              "      <td>Just got sent this photo from Ruby #Alaska as ...</td>\n",
              "      <td>1</td>\n",
              "    </tr>\n",
              "  </tbody>\n",
              "</table>\n",
              "</div>"
            ],
            "text/plain": [
              "   id keyword location                                               text  \\\n",
              "0   1     NaN      NaN  Our Deeds are the Reason of this #earthquake M...   \n",
              "1   4     NaN      NaN             Forest fire near La Ronge Sask. Canada   \n",
              "2   5     NaN      NaN  All residents asked to 'shelter in place' are ...   \n",
              "3   6     NaN      NaN  13,000 people receive #wildfires evacuation or...   \n",
              "4   7     NaN      NaN  Just got sent this photo from Ruby #Alaska as ...   \n",
              "\n",
              "   target  \n",
              "0       1  \n",
              "1       1  \n",
              "2       1  \n",
              "3       1  \n",
              "4       1  "
            ]
          },
          "execution_count": 3,
          "metadata": {},
          "output_type": "execute_result"
        }
      ],
      "source": [
        "train = pd.read_csv(\"../input/nlp-getting-started/train.csv\")\n",
        "train.head()"
      ]
    },
    {
      "cell_type": "code",
      "execution_count": null,
      "id": "b68e5c57",
      "metadata": {
        "execution": {
          "iopub.execute_input": "2022-09-15T16:25:26.395125Z",
          "iopub.status.busy": "2022-09-15T16:25:26.394681Z",
          "iopub.status.idle": "2022-09-15T16:25:26.423063Z",
          "shell.execute_reply": "2022-09-15T16:25:26.421977Z"
        },
        "papermill": {
          "duration": 0.046506,
          "end_time": "2022-09-15T16:25:26.425868",
          "exception": false,
          "start_time": "2022-09-15T16:25:26.379362",
          "status": "completed"
        },
        "tags": [],
        "id": "b68e5c57",
        "outputId": "20bfa397-9762-4455-eb6c-95db35def6bd"
      },
      "outputs": [
        {
          "name": "stdout",
          "output_type": "stream",
          "text": [
            "<class 'pandas.core.frame.DataFrame'>\n",
            "RangeIndex: 7613 entries, 0 to 7612\n",
            "Data columns (total 5 columns):\n",
            " #   Column    Non-Null Count  Dtype \n",
            "---  ------    --------------  ----- \n",
            " 0   id        7613 non-null   int64 \n",
            " 1   keyword   7552 non-null   object\n",
            " 2   location  5080 non-null   object\n",
            " 3   text      7613 non-null   object\n",
            " 4   target    7613 non-null   int64 \n",
            "dtypes: int64(2), object(3)\n",
            "memory usage: 297.5+ KB\n"
          ]
        }
      ],
      "source": [
        "train.info()"
      ]
    },
    {
      "cell_type": "code",
      "execution_count": null,
      "id": "0e445fa2",
      "metadata": {
        "execution": {
          "iopub.execute_input": "2022-09-15T16:25:26.454681Z",
          "iopub.status.busy": "2022-09-15T16:25:26.454266Z",
          "iopub.status.idle": "2022-09-15T16:25:26.489223Z",
          "shell.execute_reply": "2022-09-15T16:25:26.487789Z"
        },
        "papermill": {
          "duration": 0.052194,
          "end_time": "2022-09-15T16:25:26.491722",
          "exception": false,
          "start_time": "2022-09-15T16:25:26.439528",
          "status": "completed"
        },
        "tags": [],
        "id": "0e445fa2",
        "outputId": "d84a72e5-40c6-4785-d6ad-7784031e14cb"
      },
      "outputs": [
        {
          "data": {
            "text/html": [
              "<div>\n",
              "<style scoped>\n",
              "    .dataframe tbody tr th:only-of-type {\n",
              "        vertical-align: middle;\n",
              "    }\n",
              "\n",
              "    .dataframe tbody tr th {\n",
              "        vertical-align: top;\n",
              "    }\n",
              "\n",
              "    .dataframe thead th {\n",
              "        text-align: right;\n",
              "    }\n",
              "</style>\n",
              "<table border=\"1\" class=\"dataframe\">\n",
              "  <thead>\n",
              "    <tr style=\"text-align: right;\">\n",
              "      <th></th>\n",
              "      <th>id</th>\n",
              "      <th>keyword</th>\n",
              "      <th>location</th>\n",
              "      <th>text</th>\n",
              "    </tr>\n",
              "  </thead>\n",
              "  <tbody>\n",
              "    <tr>\n",
              "      <th>0</th>\n",
              "      <td>0</td>\n",
              "      <td>NaN</td>\n",
              "      <td>NaN</td>\n",
              "      <td>Just happened a terrible car crash</td>\n",
              "    </tr>\n",
              "    <tr>\n",
              "      <th>1</th>\n",
              "      <td>2</td>\n",
              "      <td>NaN</td>\n",
              "      <td>NaN</td>\n",
              "      <td>Heard about #earthquake is different cities, s...</td>\n",
              "    </tr>\n",
              "    <tr>\n",
              "      <th>2</th>\n",
              "      <td>3</td>\n",
              "      <td>NaN</td>\n",
              "      <td>NaN</td>\n",
              "      <td>there is a forest fire at spot pond, geese are...</td>\n",
              "    </tr>\n",
              "    <tr>\n",
              "      <th>3</th>\n",
              "      <td>9</td>\n",
              "      <td>NaN</td>\n",
              "      <td>NaN</td>\n",
              "      <td>Apocalypse lighting. #Spokane #wildfires</td>\n",
              "    </tr>\n",
              "    <tr>\n",
              "      <th>4</th>\n",
              "      <td>11</td>\n",
              "      <td>NaN</td>\n",
              "      <td>NaN</td>\n",
              "      <td>Typhoon Soudelor kills 28 in China and Taiwan</td>\n",
              "    </tr>\n",
              "  </tbody>\n",
              "</table>\n",
              "</div>"
            ],
            "text/plain": [
              "   id keyword location                                               text\n",
              "0   0     NaN      NaN                 Just happened a terrible car crash\n",
              "1   2     NaN      NaN  Heard about #earthquake is different cities, s...\n",
              "2   3     NaN      NaN  there is a forest fire at spot pond, geese are...\n",
              "3   9     NaN      NaN           Apocalypse lighting. #Spokane #wildfires\n",
              "4  11     NaN      NaN      Typhoon Soudelor kills 28 in China and Taiwan"
            ]
          },
          "execution_count": 5,
          "metadata": {},
          "output_type": "execute_result"
        }
      ],
      "source": [
        "test = pd.read_csv(\"../input/nlp-getting-started/test.csv\")\n",
        "test.head()"
      ]
    },
    {
      "cell_type": "code",
      "execution_count": null,
      "id": "4e8b5965",
      "metadata": {
        "execution": {
          "iopub.execute_input": "2022-09-15T16:25:26.521586Z",
          "iopub.status.busy": "2022-09-15T16:25:26.521166Z",
          "iopub.status.idle": "2022-09-15T16:25:26.534961Z",
          "shell.execute_reply": "2022-09-15T16:25:26.533670Z"
        },
        "papermill": {
          "duration": 0.031938,
          "end_time": "2022-09-15T16:25:26.537435",
          "exception": false,
          "start_time": "2022-09-15T16:25:26.505497",
          "status": "completed"
        },
        "tags": [],
        "id": "4e8b5965",
        "outputId": "e576a4f7-45d6-41dd-d05f-f8b8a4a5ad01"
      },
      "outputs": [
        {
          "name": "stdout",
          "output_type": "stream",
          "text": [
            "<class 'pandas.core.frame.DataFrame'>\n",
            "RangeIndex: 3263 entries, 0 to 3262\n",
            "Data columns (total 4 columns):\n",
            " #   Column    Non-Null Count  Dtype \n",
            "---  ------    --------------  ----- \n",
            " 0   id        3263 non-null   int64 \n",
            " 1   keyword   3237 non-null   object\n",
            " 2   location  2158 non-null   object\n",
            " 3   text      3263 non-null   object\n",
            "dtypes: int64(1), object(3)\n",
            "memory usage: 102.1+ KB\n"
          ]
        }
      ],
      "source": [
        "test.info()"
      ]
    },
    {
      "cell_type": "code",
      "execution_count": null,
      "id": "daf3fe83",
      "metadata": {
        "execution": {
          "iopub.execute_input": "2022-09-15T16:25:26.567593Z",
          "iopub.status.busy": "2022-09-15T16:25:26.566570Z",
          "iopub.status.idle": "2022-09-15T16:25:26.586151Z",
          "shell.execute_reply": "2022-09-15T16:25:26.584986Z"
        },
        "papermill": {
          "duration": 0.037193,
          "end_time": "2022-09-15T16:25:26.588551",
          "exception": false,
          "start_time": "2022-09-15T16:25:26.551358",
          "status": "completed"
        },
        "tags": [],
        "id": "daf3fe83",
        "outputId": "59b74854-35e8-4ef3-e893-b85a4fdb9a65"
      },
      "outputs": [
        {
          "data": {
            "text/html": [
              "<div>\n",
              "<style scoped>\n",
              "    .dataframe tbody tr th:only-of-type {\n",
              "        vertical-align: middle;\n",
              "    }\n",
              "\n",
              "    .dataframe tbody tr th {\n",
              "        vertical-align: top;\n",
              "    }\n",
              "\n",
              "    .dataframe thead th {\n",
              "        text-align: right;\n",
              "    }\n",
              "</style>\n",
              "<table border=\"1\" class=\"dataframe\">\n",
              "  <thead>\n",
              "    <tr style=\"text-align: right;\">\n",
              "      <th></th>\n",
              "      <th>id</th>\n",
              "      <th>target</th>\n",
              "    </tr>\n",
              "  </thead>\n",
              "  <tbody>\n",
              "    <tr>\n",
              "      <th>0</th>\n",
              "      <td>0</td>\n",
              "      <td>0</td>\n",
              "    </tr>\n",
              "    <tr>\n",
              "      <th>1</th>\n",
              "      <td>2</td>\n",
              "      <td>0</td>\n",
              "    </tr>\n",
              "    <tr>\n",
              "      <th>2</th>\n",
              "      <td>3</td>\n",
              "      <td>0</td>\n",
              "    </tr>\n",
              "    <tr>\n",
              "      <th>3</th>\n",
              "      <td>9</td>\n",
              "      <td>0</td>\n",
              "    </tr>\n",
              "    <tr>\n",
              "      <th>4</th>\n",
              "      <td>11</td>\n",
              "      <td>0</td>\n",
              "    </tr>\n",
              "  </tbody>\n",
              "</table>\n",
              "</div>"
            ],
            "text/plain": [
              "   id  target\n",
              "0   0       0\n",
              "1   2       0\n",
              "2   3       0\n",
              "3   9       0\n",
              "4  11       0"
            ]
          },
          "execution_count": 7,
          "metadata": {},
          "output_type": "execute_result"
        }
      ],
      "source": [
        "sub = pd.read_csv(\"../input/nlp-getting-started/sample_submission.csv\")\n",
        "sub.head()"
      ]
    },
    {
      "cell_type": "code",
      "execution_count": null,
      "id": "f8dfbd90",
      "metadata": {
        "execution": {
          "iopub.execute_input": "2022-09-15T16:25:26.619586Z",
          "iopub.status.busy": "2022-09-15T16:25:26.618482Z",
          "iopub.status.idle": "2022-09-15T16:25:26.639359Z",
          "shell.execute_reply": "2022-09-15T16:25:26.637356Z"
        },
        "papermill": {
          "duration": 0.038786,
          "end_time": "2022-09-15T16:25:26.641936",
          "exception": false,
          "start_time": "2022-09-15T16:25:26.603150",
          "status": "completed"
        },
        "tags": [],
        "id": "f8dfbd90",
        "outputId": "c07fa186-7d79-4031-99f4-54fec131eafb"
      },
      "outputs": [
        {
          "name": "stdout",
          "output_type": "stream",
          "text": [
            "Total rows present =  10876\n"
          ]
        },
        {
          "data": {
            "text/html": [
              "<div>\n",
              "<style scoped>\n",
              "    .dataframe tbody tr th:only-of-type {\n",
              "        vertical-align: middle;\n",
              "    }\n",
              "\n",
              "    .dataframe tbody tr th {\n",
              "        vertical-align: top;\n",
              "    }\n",
              "\n",
              "    .dataframe thead th {\n",
              "        text-align: right;\n",
              "    }\n",
              "</style>\n",
              "<table border=\"1\" class=\"dataframe\">\n",
              "  <thead>\n",
              "    <tr style=\"text-align: right;\">\n",
              "      <th></th>\n",
              "      <th>id</th>\n",
              "      <th>keyword</th>\n",
              "      <th>location</th>\n",
              "      <th>text</th>\n",
              "    </tr>\n",
              "  </thead>\n",
              "  <tbody>\n",
              "    <tr>\n",
              "      <th>0</th>\n",
              "      <td>1</td>\n",
              "      <td>NaN</td>\n",
              "      <td>NaN</td>\n",
              "      <td>Our Deeds are the Reason of this #earthquake M...</td>\n",
              "    </tr>\n",
              "    <tr>\n",
              "      <th>1</th>\n",
              "      <td>4</td>\n",
              "      <td>NaN</td>\n",
              "      <td>NaN</td>\n",
              "      <td>Forest fire near La Ronge Sask. Canada</td>\n",
              "    </tr>\n",
              "    <tr>\n",
              "      <th>2</th>\n",
              "      <td>5</td>\n",
              "      <td>NaN</td>\n",
              "      <td>NaN</td>\n",
              "      <td>All residents asked to 'shelter in place' are ...</td>\n",
              "    </tr>\n",
              "    <tr>\n",
              "      <th>3</th>\n",
              "      <td>6</td>\n",
              "      <td>NaN</td>\n",
              "      <td>NaN</td>\n",
              "      <td>13,000 people receive #wildfires evacuation or...</td>\n",
              "    </tr>\n",
              "    <tr>\n",
              "      <th>4</th>\n",
              "      <td>7</td>\n",
              "      <td>NaN</td>\n",
              "      <td>NaN</td>\n",
              "      <td>Just got sent this photo from Ruby #Alaska as ...</td>\n",
              "    </tr>\n",
              "  </tbody>\n",
              "</table>\n",
              "</div>"
            ],
            "text/plain": [
              "   id keyword location                                               text\n",
              "0   1     NaN      NaN  Our Deeds are the Reason of this #earthquake M...\n",
              "1   4     NaN      NaN             Forest fire near La Ronge Sask. Canada\n",
              "2   5     NaN      NaN  All residents asked to 'shelter in place' are ...\n",
              "3   6     NaN      NaN  13,000 people receive #wildfires evacuation or...\n",
              "4   7     NaN      NaN  Just got sent this photo from Ruby #Alaska as ..."
            ]
          },
          "execution_count": 8,
          "metadata": {},
          "output_type": "execute_result"
        }
      ],
      "source": [
        "df_train_uptd = train.drop(\"target\", axis = 1)\n",
        "\n",
        "\n",
        "df = pd.concat([df_train_uptd,test], axis = 0, ignore_index= True)\n",
        "print(\"Total rows present = \", len(df))\n",
        "df.head(5)"
      ]
    },
    {
      "cell_type": "code",
      "execution_count": null,
      "id": "a7516cea",
      "metadata": {
        "execution": {
          "iopub.execute_input": "2022-09-15T16:25:26.673589Z",
          "iopub.status.busy": "2022-09-15T16:25:26.672753Z",
          "iopub.status.idle": "2022-09-15T16:25:26.686661Z",
          "shell.execute_reply": "2022-09-15T16:25:26.685561Z"
        },
        "papermill": {
          "duration": 0.032281,
          "end_time": "2022-09-15T16:25:26.689221",
          "exception": false,
          "start_time": "2022-09-15T16:25:26.656940",
          "status": "completed"
        },
        "tags": [],
        "id": "a7516cea",
        "outputId": "991c4b17-a286-48bc-8a06-e0cd6ed2e79d"
      },
      "outputs": [
        {
          "name": "stdout",
          "output_type": "stream",
          "text": [
            "<class 'pandas.core.frame.DataFrame'>\n",
            "RangeIndex: 10876 entries, 0 to 10875\n",
            "Data columns (total 4 columns):\n",
            " #   Column    Non-Null Count  Dtype \n",
            "---  ------    --------------  ----- \n",
            " 0   id        10876 non-null  int64 \n",
            " 1   keyword   10789 non-null  object\n",
            " 2   location  7238 non-null   object\n",
            " 3   text      10876 non-null  object\n",
            "dtypes: int64(1), object(3)\n",
            "memory usage: 340.0+ KB\n"
          ]
        }
      ],
      "source": [
        "df.info()"
      ]
    },
    {
      "cell_type": "code",
      "execution_count": null,
      "id": "57717163",
      "metadata": {
        "execution": {
          "iopub.execute_input": "2022-09-15T16:25:26.776195Z",
          "iopub.status.busy": "2022-09-15T16:25:26.775657Z",
          "iopub.status.idle": "2022-09-15T16:25:26.983310Z",
          "shell.execute_reply": "2022-09-15T16:25:26.981969Z"
        },
        "papermill": {
          "duration": 0.225683,
          "end_time": "2022-09-15T16:25:26.985958",
          "exception": false,
          "start_time": "2022-09-15T16:25:26.760275",
          "status": "completed"
        },
        "tags": [],
        "id": "57717163",
        "outputId": "ef879d8f-606c-493d-ea4a-2ef77a54c81a"
      },
      "outputs": [
        {
          "data": {
            "text/plain": [
              "Text(0.5, 1.0, 'Sentiment Distribution')"
            ]
          },
          "execution_count": 10,
          "metadata": {},
          "output_type": "execute_result"
        },
        {
          "data": {
            "image/png": "[encoded data removed]",
            "text/plain": [
              "<Figure size 1152x576 with 1 Axes>"
            ]
          },
          "metadata": {
            "needs_background": "light"
          },
          "output_type": "display_data"
        }
      ],
      "source": [
        "plt.figure(figsize=(16,8))\n",
        "x = train.target.value_counts()\n",
        "sns.barplot(x.index, x, palette='cool')\n",
        "plt.gca().set_ylabel('Number of Tweets')\n",
        "plt.gca().set_xlabel('Sentiments')\n",
        "plt.title(\"Sentiment Distribution\")"
      ]
    },
    {
      "cell_type": "code",
      "execution_count": null,
      "id": "7efaac0d",
      "metadata": {
        "execution": {
          "iopub.execute_input": "2022-09-15T16:25:27.047032Z",
          "iopub.status.busy": "2022-09-15T16:25:27.046280Z",
          "iopub.status.idle": "2022-09-15T16:25:27.056132Z",
          "shell.execute_reply": "2022-09-15T16:25:27.055019Z"
        },
        "papermill": {
          "duration": 0.029416,
          "end_time": "2022-09-15T16:25:27.059063",
          "exception": false,
          "start_time": "2022-09-15T16:25:27.029647",
          "status": "completed"
        },
        "tags": [],
        "id": "7efaac0d"
      },
      "outputs": [],
      "source": [
        "# Including Stopwords and exclusing 'not' related stopwords\n",
        "\n",
        "stop_words = set(stopwords.words(\"english\"))\n",
        "stop_words.remove('not')\n",
        "more_stopwords = {'one', 'br', 'Po', 'th', 'sayi', 'fo', 'Unknown'}\n",
        "stop_words = stop_words.union(more_stopwords)\n",
        "                 \n",
        "stemmer = SnowballStemmer(\"english\")"
      ]
    },
    {
      "cell_type": "code",
      "execution_count": null,
      "id": "e598d6e3",
      "metadata": {
        "execution": {
          "iopub.execute_input": "2022-09-15T16:25:27.092921Z",
          "iopub.status.busy": "2022-09-15T16:25:27.092034Z",
          "iopub.status.idle": "2022-09-15T16:25:27.363465Z",
          "shell.execute_reply": "2022-09-15T16:25:27.362157Z"
        },
        "papermill": {
          "duration": 0.291284,
          "end_time": "2022-09-15T16:25:27.366008",
          "exception": false,
          "start_time": "2022-09-15T16:25:27.074724",
          "status": "completed"
        },
        "tags": [],
        "id": "e598d6e3",
        "outputId": "4acf5352-4b26-4308-cc2c-fd6a226de674"
      },
      "outputs": [
        {
          "data": {
            "text/html": [
              "<div>\n",
              "<style scoped>\n",
              "    .dataframe tbody tr th:only-of-type {\n",
              "        vertical-align: middle;\n",
              "    }\n",
              "\n",
              "    .dataframe tbody tr th {\n",
              "        vertical-align: top;\n",
              "    }\n",
              "\n",
              "    .dataframe thead th {\n",
              "        text-align: right;\n",
              "    }\n",
              "</style>\n",
              "<table border=\"1\" class=\"dataframe\">\n",
              "  <thead>\n",
              "    <tr style=\"text-align: right;\">\n",
              "      <th></th>\n",
              "      <th>id</th>\n",
              "      <th>keyword</th>\n",
              "      <th>location</th>\n",
              "      <th>text</th>\n",
              "      <th>mod_text</th>\n",
              "    </tr>\n",
              "  </thead>\n",
              "  <tbody>\n",
              "    <tr>\n",
              "      <th>0</th>\n",
              "      <td>1</td>\n",
              "      <td>NaN</td>\n",
              "      <td>NaN</td>\n",
              "      <td>Our Deeds are the Reason of this #earthquake M...</td>\n",
              "      <td>Our Deeds are the Reason of this earthquake Ma...</td>\n",
              "    </tr>\n",
              "    <tr>\n",
              "      <th>1</th>\n",
              "      <td>4</td>\n",
              "      <td>NaN</td>\n",
              "      <td>NaN</td>\n",
              "      <td>Forest fire near La Ronge Sask. Canada</td>\n",
              "      <td>Forest fire near La Ronge Sask Canada</td>\n",
              "    </tr>\n",
              "    <tr>\n",
              "      <th>2</th>\n",
              "      <td>5</td>\n",
              "      <td>NaN</td>\n",
              "      <td>NaN</td>\n",
              "      <td>All residents asked to 'shelter in place' are ...</td>\n",
              "      <td>All residents asked to shelter in place are be...</td>\n",
              "    </tr>\n",
              "    <tr>\n",
              "      <th>3</th>\n",
              "      <td>6</td>\n",
              "      <td>NaN</td>\n",
              "      <td>NaN</td>\n",
              "      <td>13,000 people receive #wildfires evacuation or...</td>\n",
              "      <td>13000 people receive wildfires evacuation orde...</td>\n",
              "    </tr>\n",
              "    <tr>\n",
              "      <th>4</th>\n",
              "      <td>7</td>\n",
              "      <td>NaN</td>\n",
              "      <td>NaN</td>\n",
              "      <td>Just got sent this photo from Ruby #Alaska as ...</td>\n",
              "      <td>Just got sent this photo from Ruby Alaska as s...</td>\n",
              "    </tr>\n",
              "  </tbody>\n",
              "</table>\n",
              "</div>"
            ],
            "text/plain": [
              "   id keyword location                                               text  \\\n",
              "0   1     NaN      NaN  Our Deeds are the Reason of this #earthquake M...   \n",
              "1   4     NaN      NaN             Forest fire near La Ronge Sask. Canada   \n",
              "2   5     NaN      NaN  All residents asked to 'shelter in place' are ...   \n",
              "3   6     NaN      NaN  13,000 people receive #wildfires evacuation or...   \n",
              "4   7     NaN      NaN  Just got sent this photo from Ruby #Alaska as ...   \n",
              "\n",
              "                                            mod_text  \n",
              "0  Our Deeds are the Reason of this earthquake Ma...  \n",
              "1              Forest fire near La Ronge Sask Canada  \n",
              "2  All residents asked to shelter in place are be...  \n",
              "3  13000 people receive wildfires evacuation orde...  \n",
              "4  Just got sent this photo from Ruby Alaska as s...  "
            ]
          },
          "execution_count": 12,
          "metadata": {},
          "output_type": "execute_result"
        }
      ],
      "source": [
        "def remove_URL(text):\n",
        "    url = re.compile(r'https?://\\S+|www\\.\\S+')\n",
        "    return url.sub(r'', text)\n",
        "\n",
        "\n",
        "def remove_emoji(text):\n",
        "    emoji_pattern = re.compile(\n",
        "        '['\n",
        "        u'\\U0001F600-\\U0001F64F'  # emoticons\n",
        "        u'\\U0001F300-\\U0001F5FF'  # symbols & pictographs\n",
        "        u'\\U0001F680-\\U0001F6FF'  # transport & map symbols\n",
        "        u'\\U0001F1E0-\\U0001F1FF'  # flags (iOS)\n",
        "        u'\\U00002702-\\U000027B0'\n",
        "        u'\\U000024C2-\\U0001F251'\n",
        "        ']+',\n",
        "        flags=re.UNICODE)\n",
        "    return emoji_pattern.sub(r'', text)\n",
        "\n",
        "\n",
        "def remove_html(text):\n",
        "    html = re.compile(r'^[^ ]<.*?>|&([a-z0-9]+|#[0-9]\\\"\\'\\“{1,6}|#x[0-9a-f]{1,6});[^A-Za-z0-9]+')\n",
        "    return re.sub(html, '', text)\n",
        "\n",
        "\n",
        "def remove_punct(text):\n",
        "    table = str.maketrans('', '', string.punctuation)\n",
        "    return text.translate(table)\n",
        "\n",
        "def remove_quotes(text):\n",
        "    quotes = re.compile(r'[^A-Za-z0-9\\s]+')\n",
        "    return re.sub(quotes, '', text)\n",
        "\n",
        "df['mod_text'] = df['text'].apply(lambda x: remove_URL(x))\n",
        "df['mod_text'] = df['mod_text'].apply(lambda x: remove_emoji(x))\n",
        "df['mod_text'] = df['mod_text'].apply(lambda x: remove_html(x))\n",
        "df['mod_text'] = df['mod_text'].apply(lambda x: remove_punct(x))\n",
        "df['mod_text'] = df['mod_text'].apply(lambda x: remove_quotes(x))\n",
        "df.head()"
      ]
    },
    {
      "cell_type": "code",
      "execution_count": null,
      "id": "d5b38484",
      "metadata": {
        "execution": {
          "iopub.execute_input": "2022-09-15T16:25:27.398072Z",
          "iopub.status.busy": "2022-09-15T16:25:27.397240Z",
          "iopub.status.idle": "2022-09-15T16:25:28.825488Z",
          "shell.execute_reply": "2022-09-15T16:25:28.824271Z"
        },
        "papermill": {
          "duration": 1.44714,
          "end_time": "2022-09-15T16:25:28.827980",
          "exception": false,
          "start_time": "2022-09-15T16:25:27.380840",
          "status": "completed"
        },
        "tags": [],
        "id": "d5b38484",
        "outputId": "010c108c-49bc-492a-be9e-242953926cf3"
      },
      "outputs": [
        {
          "data": {
            "text/html": [
              "<div>\n",
              "<style scoped>\n",
              "    .dataframe tbody tr th:only-of-type {\n",
              "        vertical-align: middle;\n",
              "    }\n",
              "\n",
              "    .dataframe tbody tr th {\n",
              "        vertical-align: top;\n",
              "    }\n",
              "\n",
              "    .dataframe thead th {\n",
              "        text-align: right;\n",
              "    }\n",
              "</style>\n",
              "<table border=\"1\" class=\"dataframe\">\n",
              "  <thead>\n",
              "    <tr style=\"text-align: right;\">\n",
              "      <th></th>\n",
              "      <th>id</th>\n",
              "      <th>keyword</th>\n",
              "      <th>location</th>\n",
              "      <th>text</th>\n",
              "      <th>mod_text</th>\n",
              "      <th>tokenized</th>\n",
              "    </tr>\n",
              "  </thead>\n",
              "  <tbody>\n",
              "    <tr>\n",
              "      <th>0</th>\n",
              "      <td>1</td>\n",
              "      <td>NaN</td>\n",
              "      <td>NaN</td>\n",
              "      <td>Our Deeds are the Reason of this #earthquake M...</td>\n",
              "      <td>Our Deeds are the Reason of this earthquake Ma...</td>\n",
              "      <td>[Our, Deeds, are, the, Reason, of, this, earth...</td>\n",
              "    </tr>\n",
              "    <tr>\n",
              "      <th>1</th>\n",
              "      <td>4</td>\n",
              "      <td>NaN</td>\n",
              "      <td>NaN</td>\n",
              "      <td>Forest fire near La Ronge Sask. Canada</td>\n",
              "      <td>Forest fire near La Ronge Sask Canada</td>\n",
              "      <td>[Forest, fire, near, La, Ronge, Sask, Canada]</td>\n",
              "    </tr>\n",
              "    <tr>\n",
              "      <th>2</th>\n",
              "      <td>5</td>\n",
              "      <td>NaN</td>\n",
              "      <td>NaN</td>\n",
              "      <td>All residents asked to 'shelter in place' are ...</td>\n",
              "      <td>All residents asked to shelter in place are be...</td>\n",
              "      <td>[All, residents, asked, to, shelter, in, place...</td>\n",
              "    </tr>\n",
              "    <tr>\n",
              "      <th>3</th>\n",
              "      <td>6</td>\n",
              "      <td>NaN</td>\n",
              "      <td>NaN</td>\n",
              "      <td>13,000 people receive #wildfires evacuation or...</td>\n",
              "      <td>13000 people receive wildfires evacuation orde...</td>\n",
              "      <td>[13000, people, receive, wildfires, evacuation...</td>\n",
              "    </tr>\n",
              "    <tr>\n",
              "      <th>4</th>\n",
              "      <td>7</td>\n",
              "      <td>NaN</td>\n",
              "      <td>NaN</td>\n",
              "      <td>Just got sent this photo from Ruby #Alaska as ...</td>\n",
              "      <td>Just got sent this photo from Ruby Alaska as s...</td>\n",
              "      <td>[Just, got, sent, this, photo, from, Ruby, Ala...</td>\n",
              "    </tr>\n",
              "  </tbody>\n",
              "</table>\n",
              "</div>"
            ],
            "text/plain": [
              "   id keyword location                                               text  \\\n",
              "0   1     NaN      NaN  Our Deeds are the Reason of this #earthquake M...   \n",
              "1   4     NaN      NaN             Forest fire near La Ronge Sask. Canada   \n",
              "2   5     NaN      NaN  All residents asked to 'shelter in place' are ...   \n",
              "3   6     NaN      NaN  13,000 people receive #wildfires evacuation or...   \n",
              "4   7     NaN      NaN  Just got sent this photo from Ruby #Alaska as ...   \n",
              "\n",
              "                                            mod_text  \\\n",
              "0  Our Deeds are the Reason of this earthquake Ma...   \n",
              "1              Forest fire near La Ronge Sask Canada   \n",
              "2  All residents asked to shelter in place are be...   \n",
              "3  13000 people receive wildfires evacuation orde...   \n",
              "4  Just got sent this photo from Ruby Alaska as s...   \n",
              "\n",
              "                                           tokenized  \n",
              "0  [Our, Deeds, are, the, Reason, of, this, earth...  \n",
              "1      [Forest, fire, near, La, Ronge, Sask, Canada]  \n",
              "2  [All, residents, asked, to, shelter, in, place...  \n",
              "3  [13000, people, receive, wildfires, evacuation...  \n",
              "4  [Just, got, sent, this, photo, from, Ruby, Ala...  "
            ]
          },
          "execution_count": 13,
          "metadata": {},
          "output_type": "execute_result"
        }
      ],
      "source": [
        "df['tokenized'] = df['mod_text'].apply(word_tokenize)\n",
        "\n",
        "df.head()"
      ]
    },
    {
      "cell_type": "code",
      "execution_count": null,
      "id": "69ee086a",
      "metadata": {
        "execution": {
          "iopub.execute_input": "2022-09-15T16:25:28.868782Z",
          "iopub.status.busy": "2022-09-15T16:25:28.868390Z",
          "iopub.status.idle": "2022-09-15T16:25:28.927654Z",
          "shell.execute_reply": "2022-09-15T16:25:28.926526Z"
        },
        "papermill": {
          "duration": 0.080158,
          "end_time": "2022-09-15T16:25:28.930853",
          "exception": false,
          "start_time": "2022-09-15T16:25:28.850695",
          "status": "completed"
        },
        "tags": [],
        "id": "69ee086a",
        "outputId": "75b063d7-1000-48a9-8eb6-82576ca73a75"
      },
      "outputs": [
        {
          "data": {
            "text/html": [
              "<div>\n",
              "<style scoped>\n",
              "    .dataframe tbody tr th:only-of-type {\n",
              "        vertical-align: middle;\n",
              "    }\n",
              "\n",
              "    .dataframe tbody tr th {\n",
              "        vertical-align: top;\n",
              "    }\n",
              "\n",
              "    .dataframe thead th {\n",
              "        text-align: right;\n",
              "    }\n",
              "</style>\n",
              "<table border=\"1\" class=\"dataframe\">\n",
              "  <thead>\n",
              "    <tr style=\"text-align: right;\">\n",
              "      <th></th>\n",
              "      <th>id</th>\n",
              "      <th>keyword</th>\n",
              "      <th>location</th>\n",
              "      <th>text</th>\n",
              "      <th>mod_text</th>\n",
              "      <th>tokenized</th>\n",
              "      <th>lower</th>\n",
              "    </tr>\n",
              "  </thead>\n",
              "  <tbody>\n",
              "    <tr>\n",
              "      <th>0</th>\n",
              "      <td>1</td>\n",
              "      <td>NaN</td>\n",
              "      <td>NaN</td>\n",
              "      <td>Our Deeds are the Reason of this #earthquake M...</td>\n",
              "      <td>Our Deeds are the Reason of this earthquake Ma...</td>\n",
              "      <td>[Our, Deeds, are, the, Reason, of, this, earth...</td>\n",
              "      <td>[our, deeds, are, the, reason, of, this, earth...</td>\n",
              "    </tr>\n",
              "    <tr>\n",
              "      <th>1</th>\n",
              "      <td>4</td>\n",
              "      <td>NaN</td>\n",
              "      <td>NaN</td>\n",
              "      <td>Forest fire near La Ronge Sask. Canada</td>\n",
              "      <td>Forest fire near La Ronge Sask Canada</td>\n",
              "      <td>[Forest, fire, near, La, Ronge, Sask, Canada]</td>\n",
              "      <td>[forest, fire, near, la, ronge, sask, canada]</td>\n",
              "    </tr>\n",
              "    <tr>\n",
              "      <th>2</th>\n",
              "      <td>5</td>\n",
              "      <td>NaN</td>\n",
              "      <td>NaN</td>\n",
              "      <td>All residents asked to 'shelter in place' are ...</td>\n",
              "      <td>All residents asked to shelter in place are be...</td>\n",
              "      <td>[All, residents, asked, to, shelter, in, place...</td>\n",
              "      <td>[all, residents, asked, to, shelter, in, place...</td>\n",
              "    </tr>\n",
              "    <tr>\n",
              "      <th>3</th>\n",
              "      <td>6</td>\n",
              "      <td>NaN</td>\n",
              "      <td>NaN</td>\n",
              "      <td>13,000 people receive #wildfires evacuation or...</td>\n",
              "      <td>13000 people receive wildfires evacuation orde...</td>\n",
              "      <td>[13000, people, receive, wildfires, evacuation...</td>\n",
              "      <td>[13000, people, receive, wildfires, evacuation...</td>\n",
              "    </tr>\n",
              "    <tr>\n",
              "      <th>4</th>\n",
              "      <td>7</td>\n",
              "      <td>NaN</td>\n",
              "      <td>NaN</td>\n",
              "      <td>Just got sent this photo from Ruby #Alaska as ...</td>\n",
              "      <td>Just got sent this photo from Ruby Alaska as s...</td>\n",
              "      <td>[Just, got, sent, this, photo, from, Ruby, Ala...</td>\n",
              "      <td>[just, got, sent, this, photo, from, ruby, ala...</td>\n",
              "    </tr>\n",
              "  </tbody>\n",
              "</table>\n",
              "</div>"
            ],
            "text/plain": [
              "   id keyword location                                               text  \\\n",
              "0   1     NaN      NaN  Our Deeds are the Reason of this #earthquake M...   \n",
              "1   4     NaN      NaN             Forest fire near La Ronge Sask. Canada   \n",
              "2   5     NaN      NaN  All residents asked to 'shelter in place' are ...   \n",
              "3   6     NaN      NaN  13,000 people receive #wildfires evacuation or...   \n",
              "4   7     NaN      NaN  Just got sent this photo from Ruby #Alaska as ...   \n",
              "\n",
              "                                            mod_text  \\\n",
              "0  Our Deeds are the Reason of this earthquake Ma...   \n",
              "1              Forest fire near La Ronge Sask Canada   \n",
              "2  All residents asked to shelter in place are be...   \n",
              "3  13000 people receive wildfires evacuation orde...   \n",
              "4  Just got sent this photo from Ruby Alaska as s...   \n",
              "\n",
              "                                           tokenized  \\\n",
              "0  [Our, Deeds, are, the, Reason, of, this, earth...   \n",
              "1      [Forest, fire, near, La, Ronge, Sask, Canada]   \n",
              "2  [All, residents, asked, to, shelter, in, place...   \n",
              "3  [13000, people, receive, wildfires, evacuation...   \n",
              "4  [Just, got, sent, this, photo, from, Ruby, Ala...   \n",
              "\n",
              "                                               lower  \n",
              "0  [our, deeds, are, the, reason, of, this, earth...  \n",
              "1      [forest, fire, near, la, ronge, sask, canada]  \n",
              "2  [all, residents, asked, to, shelter, in, place...  \n",
              "3  [13000, people, receive, wildfires, evacuation...  \n",
              "4  [just, got, sent, this, photo, from, ruby, ala...  "
            ]
          },
          "execution_count": 14,
          "metadata": {},
          "output_type": "execute_result"
        }
      ],
      "source": [
        "df['lower'] = df['tokenized'].apply(\n",
        "    lambda x: [word.lower() for word in x])\n",
        "\n",
        "df.head()"
      ]
    },
    {
      "cell_type": "code",
      "execution_count": null,
      "id": "2b6e4c89",
      "metadata": {
        "execution": {
          "iopub.execute_input": "2022-09-15T16:25:28.964495Z",
          "iopub.status.busy": "2022-09-15T16:25:28.964070Z",
          "iopub.status.idle": "2022-09-15T16:25:29.018985Z",
          "shell.execute_reply": "2022-09-15T16:25:29.017766Z"
        },
        "papermill": {
          "duration": 0.074776,
          "end_time": "2022-09-15T16:25:29.021565",
          "exception": false,
          "start_time": "2022-09-15T16:25:28.946789",
          "status": "completed"
        },
        "tags": [],
        "id": "2b6e4c89",
        "outputId": "c8b003a1-eca2-4904-d437-d4608df01fd3"
      },
      "outputs": [
        {
          "data": {
            "text/html": [
              "<div>\n",
              "<style scoped>\n",
              "    .dataframe tbody tr th:only-of-type {\n",
              "        vertical-align: middle;\n",
              "    }\n",
              "\n",
              "    .dataframe tbody tr th {\n",
              "        vertical-align: top;\n",
              "    }\n",
              "\n",
              "    .dataframe thead th {\n",
              "        text-align: right;\n",
              "    }\n",
              "</style>\n",
              "<table border=\"1\" class=\"dataframe\">\n",
              "  <thead>\n",
              "    <tr style=\"text-align: right;\">\n",
              "      <th></th>\n",
              "      <th>id</th>\n",
              "      <th>keyword</th>\n",
              "      <th>location</th>\n",
              "      <th>text</th>\n",
              "      <th>mod_text</th>\n",
              "      <th>tokenized</th>\n",
              "      <th>lower</th>\n",
              "      <th>stopwords_removed</th>\n",
              "    </tr>\n",
              "  </thead>\n",
              "  <tbody>\n",
              "    <tr>\n",
              "      <th>0</th>\n",
              "      <td>1</td>\n",
              "      <td>NaN</td>\n",
              "      <td>NaN</td>\n",
              "      <td>Our Deeds are the Reason of this #earthquake M...</td>\n",
              "      <td>Our Deeds are the Reason of this earthquake Ma...</td>\n",
              "      <td>[Our, Deeds, are, the, Reason, of, this, earth...</td>\n",
              "      <td>[our, deeds, are, the, reason, of, this, earth...</td>\n",
              "      <td>[deeds, reason, earthquake, may, allah, forgiv...</td>\n",
              "    </tr>\n",
              "    <tr>\n",
              "      <th>1</th>\n",
              "      <td>4</td>\n",
              "      <td>NaN</td>\n",
              "      <td>NaN</td>\n",
              "      <td>Forest fire near La Ronge Sask. Canada</td>\n",
              "      <td>Forest fire near La Ronge Sask Canada</td>\n",
              "      <td>[Forest, fire, near, La, Ronge, Sask, Canada]</td>\n",
              "      <td>[forest, fire, near, la, ronge, sask, canada]</td>\n",
              "      <td>[forest, fire, near, la, ronge, sask, canada]</td>\n",
              "    </tr>\n",
              "    <tr>\n",
              "      <th>2</th>\n",
              "      <td>5</td>\n",
              "      <td>NaN</td>\n",
              "      <td>NaN</td>\n",
              "      <td>All residents asked to 'shelter in place' are ...</td>\n",
              "      <td>All residents asked to shelter in place are be...</td>\n",
              "      <td>[All, residents, asked, to, shelter, in, place...</td>\n",
              "      <td>[all, residents, asked, to, shelter, in, place...</td>\n",
              "      <td>[residents, asked, shelter, place, notified, o...</td>\n",
              "    </tr>\n",
              "    <tr>\n",
              "      <th>3</th>\n",
              "      <td>6</td>\n",
              "      <td>NaN</td>\n",
              "      <td>NaN</td>\n",
              "      <td>13,000 people receive #wildfires evacuation or...</td>\n",
              "      <td>13000 people receive wildfires evacuation orde...</td>\n",
              "      <td>[13000, people, receive, wildfires, evacuation...</td>\n",
              "      <td>[13000, people, receive, wildfires, evacuation...</td>\n",
              "      <td>[13000, people, receive, wildfires, evacuation...</td>\n",
              "    </tr>\n",
              "    <tr>\n",
              "      <th>4</th>\n",
              "      <td>7</td>\n",
              "      <td>NaN</td>\n",
              "      <td>NaN</td>\n",
              "      <td>Just got sent this photo from Ruby #Alaska as ...</td>\n",
              "      <td>Just got sent this photo from Ruby Alaska as s...</td>\n",
              "      <td>[Just, got, sent, this, photo, from, Ruby, Ala...</td>\n",
              "      <td>[just, got, sent, this, photo, from, ruby, ala...</td>\n",
              "      <td>[got, sent, photo, ruby, alaska, smoke, wildfi...</td>\n",
              "    </tr>\n",
              "  </tbody>\n",
              "</table>\n",
              "</div>"
            ],
            "text/plain": [
              "   id keyword location                                               text  \\\n",
              "0   1     NaN      NaN  Our Deeds are the Reason of this #earthquake M...   \n",
              "1   4     NaN      NaN             Forest fire near La Ronge Sask. Canada   \n",
              "2   5     NaN      NaN  All residents asked to 'shelter in place' are ...   \n",
              "3   6     NaN      NaN  13,000 people receive #wildfires evacuation or...   \n",
              "4   7     NaN      NaN  Just got sent this photo from Ruby #Alaska as ...   \n",
              "\n",
              "                                            mod_text  \\\n",
              "0  Our Deeds are the Reason of this earthquake Ma...   \n",
              "1              Forest fire near La Ronge Sask Canada   \n",
              "2  All residents asked to shelter in place are be...   \n",
              "3  13000 people receive wildfires evacuation orde...   \n",
              "4  Just got sent this photo from Ruby Alaska as s...   \n",
              "\n",
              "                                           tokenized  \\\n",
              "0  [Our, Deeds, are, the, Reason, of, this, earth...   \n",
              "1      [Forest, fire, near, La, Ronge, Sask, Canada]   \n",
              "2  [All, residents, asked, to, shelter, in, place...   \n",
              "3  [13000, people, receive, wildfires, evacuation...   \n",
              "4  [Just, got, sent, this, photo, from, Ruby, Ala...   \n",
              "\n",
              "                                               lower  \\\n",
              "0  [our, deeds, are, the, reason, of, this, earth...   \n",
              "1      [forest, fire, near, la, ronge, sask, canada]   \n",
              "2  [all, residents, asked, to, shelter, in, place...   \n",
              "3  [13000, people, receive, wildfires, evacuation...   \n",
              "4  [just, got, sent, this, photo, from, ruby, ala...   \n",
              "\n",
              "                                   stopwords_removed  \n",
              "0  [deeds, reason, earthquake, may, allah, forgiv...  \n",
              "1      [forest, fire, near, la, ronge, sask, canada]  \n",
              "2  [residents, asked, shelter, place, notified, o...  \n",
              "3  [13000, people, receive, wildfires, evacuation...  \n",
              "4  [got, sent, photo, ruby, alaska, smoke, wildfi...  "
            ]
          },
          "execution_count": 15,
          "metadata": {},
          "output_type": "execute_result"
        }
      ],
      "source": [
        "df['stopwords_removed'] = df['lower'].apply(\n",
        "    lambda x: [word for word in x if word not in stop_words])\n",
        "\n",
        "df.head()"
      ]
    },
    {
      "cell_type": "code",
      "execution_count": null,
      "id": "e11f02e1",
      "metadata": {
        "execution": {
          "iopub.execute_input": "2022-09-15T16:25:29.055414Z",
          "iopub.status.busy": "2022-09-15T16:25:29.054974Z",
          "iopub.status.idle": "2022-09-15T16:25:38.241975Z",
          "shell.execute_reply": "2022-09-15T16:25:38.240858Z"
        },
        "papermill": {
          "duration": 9.207062,
          "end_time": "2022-09-15T16:25:38.244662",
          "exception": false,
          "start_time": "2022-09-15T16:25:29.037600",
          "status": "completed"
        },
        "tags": [],
        "id": "e11f02e1",
        "outputId": "3df54cfe-44d5-47ca-8eaa-3ce818d22557"
      },
      "outputs": [
        {
          "data": {
            "text/html": [
              "<div>\n",
              "<style scoped>\n",
              "    .dataframe tbody tr th:only-of-type {\n",
              "        vertical-align: middle;\n",
              "    }\n",
              "\n",
              "    .dataframe tbody tr th {\n",
              "        vertical-align: top;\n",
              "    }\n",
              "\n",
              "    .dataframe thead th {\n",
              "        text-align: right;\n",
              "    }\n",
              "</style>\n",
              "<table border=\"1\" class=\"dataframe\">\n",
              "  <thead>\n",
              "    <tr style=\"text-align: right;\">\n",
              "      <th></th>\n",
              "      <th>id</th>\n",
              "      <th>keyword</th>\n",
              "      <th>location</th>\n",
              "      <th>text</th>\n",
              "      <th>mod_text</th>\n",
              "      <th>tokenized</th>\n",
              "      <th>lower</th>\n",
              "      <th>stopwords_removed</th>\n",
              "      <th>pos_tags</th>\n",
              "    </tr>\n",
              "  </thead>\n",
              "  <tbody>\n",
              "    <tr>\n",
              "      <th>0</th>\n",
              "      <td>1</td>\n",
              "      <td>NaN</td>\n",
              "      <td>NaN</td>\n",
              "      <td>Our Deeds are the Reason of this #earthquake M...</td>\n",
              "      <td>Our Deeds are the Reason of this earthquake Ma...</td>\n",
              "      <td>[Our, Deeds, are, the, Reason, of, this, earth...</td>\n",
              "      <td>[our, deeds, are, the, reason, of, this, earth...</td>\n",
              "      <td>[deeds, reason, earthquake, may, allah, forgiv...</td>\n",
              "      <td>[(deeds, NNS), (reason, NN), (earthquake, NN),...</td>\n",
              "    </tr>\n",
              "    <tr>\n",
              "      <th>1</th>\n",
              "      <td>4</td>\n",
              "      <td>NaN</td>\n",
              "      <td>NaN</td>\n",
              "      <td>Forest fire near La Ronge Sask. Canada</td>\n",
              "      <td>Forest fire near La Ronge Sask Canada</td>\n",
              "      <td>[Forest, fire, near, La, Ronge, Sask, Canada]</td>\n",
              "      <td>[forest, fire, near, la, ronge, sask, canada]</td>\n",
              "      <td>[forest, fire, near, la, ronge, sask, canada]</td>\n",
              "      <td>[(forest, JJS), (fire, NN), (near, IN), (la, J...</td>\n",
              "    </tr>\n",
              "    <tr>\n",
              "      <th>2</th>\n",
              "      <td>5</td>\n",
              "      <td>NaN</td>\n",
              "      <td>NaN</td>\n",
              "      <td>All residents asked to 'shelter in place' are ...</td>\n",
              "      <td>All residents asked to shelter in place are be...</td>\n",
              "      <td>[All, residents, asked, to, shelter, in, place...</td>\n",
              "      <td>[all, residents, asked, to, shelter, in, place...</td>\n",
              "      <td>[residents, asked, shelter, place, notified, o...</td>\n",
              "      <td>[(residents, NNS), (asked, VBD), (shelter, JJ)...</td>\n",
              "    </tr>\n",
              "    <tr>\n",
              "      <th>3</th>\n",
              "      <td>6</td>\n",
              "      <td>NaN</td>\n",
              "      <td>NaN</td>\n",
              "      <td>13,000 people receive #wildfires evacuation or...</td>\n",
              "      <td>13000 people receive wildfires evacuation orde...</td>\n",
              "      <td>[13000, people, receive, wildfires, evacuation...</td>\n",
              "      <td>[13000, people, receive, wildfires, evacuation...</td>\n",
              "      <td>[13000, people, receive, wildfires, evacuation...</td>\n",
              "      <td>[(13000, CD), (people, NNS), (receive, JJ), (w...</td>\n",
              "    </tr>\n",
              "    <tr>\n",
              "      <th>4</th>\n",
              "      <td>7</td>\n",
              "      <td>NaN</td>\n",
              "      <td>NaN</td>\n",
              "      <td>Just got sent this photo from Ruby #Alaska as ...</td>\n",
              "      <td>Just got sent this photo from Ruby Alaska as s...</td>\n",
              "      <td>[Just, got, sent, this, photo, from, Ruby, Ala...</td>\n",
              "      <td>[just, got, sent, this, photo, from, ruby, ala...</td>\n",
              "      <td>[got, sent, photo, ruby, alaska, smoke, wildfi...</td>\n",
              "      <td>[(got, VBD), (sent, JJ), (photo, NN), (ruby, N...</td>\n",
              "    </tr>\n",
              "  </tbody>\n",
              "</table>\n",
              "</div>"
            ],
            "text/plain": [
              "   id keyword location                                               text  \\\n",
              "0   1     NaN      NaN  Our Deeds are the Reason of this #earthquake M...   \n",
              "1   4     NaN      NaN             Forest fire near La Ronge Sask. Canada   \n",
              "2   5     NaN      NaN  All residents asked to 'shelter in place' are ...   \n",
              "3   6     NaN      NaN  13,000 people receive #wildfires evacuation or...   \n",
              "4   7     NaN      NaN  Just got sent this photo from Ruby #Alaska as ...   \n",
              "\n",
              "                                            mod_text  \\\n",
              "0  Our Deeds are the Reason of this earthquake Ma...   \n",
              "1              Forest fire near La Ronge Sask Canada   \n",
              "2  All residents asked to shelter in place are be...   \n",
              "3  13000 people receive wildfires evacuation orde...   \n",
              "4  Just got sent this photo from Ruby Alaska as s...   \n",
              "\n",
              "                                           tokenized  \\\n",
              "0  [Our, Deeds, are, the, Reason, of, this, earth...   \n",
              "1      [Forest, fire, near, La, Ronge, Sask, Canada]   \n",
              "2  [All, residents, asked, to, shelter, in, place...   \n",
              "3  [13000, people, receive, wildfires, evacuation...   \n",
              "4  [Just, got, sent, this, photo, from, Ruby, Ala...   \n",
              "\n",
              "                                               lower  \\\n",
              "0  [our, deeds, are, the, reason, of, this, earth...   \n",
              "1      [forest, fire, near, la, ronge, sask, canada]   \n",
              "2  [all, residents, asked, to, shelter, in, place...   \n",
              "3  [13000, people, receive, wildfires, evacuation...   \n",
              "4  [just, got, sent, this, photo, from, ruby, ala...   \n",
              "\n",
              "                                   stopwords_removed  \\\n",
              "0  [deeds, reason, earthquake, may, allah, forgiv...   \n",
              "1      [forest, fire, near, la, ronge, sask, canada]   \n",
              "2  [residents, asked, shelter, place, notified, o...   \n",
              "3  [13000, people, receive, wildfires, evacuation...   \n",
              "4  [got, sent, photo, ruby, alaska, smoke, wildfi...   \n",
              "\n",
              "                                            pos_tags  \n",
              "0  [(deeds, NNS), (reason, NN), (earthquake, NN),...  \n",
              "1  [(forest, JJS), (fire, NN), (near, IN), (la, J...  \n",
              "2  [(residents, NNS), (asked, VBD), (shelter, JJ)...  \n",
              "3  [(13000, CD), (people, NNS), (receive, JJ), (w...  \n",
              "4  [(got, VBD), (sent, JJ), (photo, NN), (ruby, N...  "
            ]
          },
          "execution_count": 16,
          "metadata": {},
          "output_type": "execute_result"
        }
      ],
      "source": [
        "df['pos_tags'] = df['stopwords_removed'].apply(nltk.tag.pos_tag)\n",
        "\n",
        "df.head()"
      ]
    },
    {
      "cell_type": "code",
      "execution_count": null,
      "id": "395c0538",
      "metadata": {
        "execution": {
          "iopub.execute_input": "2022-09-15T16:25:38.278472Z",
          "iopub.status.busy": "2022-09-15T16:25:38.278034Z",
          "iopub.status.idle": "2022-09-15T16:25:40.611505Z",
          "shell.execute_reply": "2022-09-15T16:25:40.610443Z"
        },
        "papermill": {
          "duration": 2.354246,
          "end_time": "2022-09-15T16:25:40.614977",
          "exception": false,
          "start_time": "2022-09-15T16:25:38.260731",
          "status": "completed"
        },
        "tags": [],
        "id": "395c0538",
        "outputId": "29bdedf9-8a93-4925-e9dc-8c0d1925a5a0"
      },
      "outputs": [
        {
          "data": {
            "text/html": [
              "<div>\n",
              "<style scoped>\n",
              "    .dataframe tbody tr th:only-of-type {\n",
              "        vertical-align: middle;\n",
              "    }\n",
              "\n",
              "    .dataframe tbody tr th {\n",
              "        vertical-align: top;\n",
              "    }\n",
              "\n",
              "    .dataframe thead th {\n",
              "        text-align: right;\n",
              "    }\n",
              "</style>\n",
              "<table border=\"1\" class=\"dataframe\">\n",
              "  <thead>\n",
              "    <tr style=\"text-align: right;\">\n",
              "      <th></th>\n",
              "      <th>id</th>\n",
              "      <th>keyword</th>\n",
              "      <th>location</th>\n",
              "      <th>text</th>\n",
              "      <th>mod_text</th>\n",
              "      <th>tokenized</th>\n",
              "      <th>lower</th>\n",
              "      <th>stopwords_removed</th>\n",
              "      <th>pos_tags</th>\n",
              "      <th>wordnet_pos</th>\n",
              "    </tr>\n",
              "  </thead>\n",
              "  <tbody>\n",
              "    <tr>\n",
              "      <th>0</th>\n",
              "      <td>1</td>\n",
              "      <td>NaN</td>\n",
              "      <td>NaN</td>\n",
              "      <td>Our Deeds are the Reason of this #earthquake M...</td>\n",
              "      <td>Our Deeds are the Reason of this earthquake Ma...</td>\n",
              "      <td>[Our, Deeds, are, the, Reason, of, this, earth...</td>\n",
              "      <td>[our, deeds, are, the, reason, of, this, earth...</td>\n",
              "      <td>[deeds, reason, earthquake, may, allah, forgiv...</td>\n",
              "      <td>[(deeds, NNS), (reason, NN), (earthquake, NN),...</td>\n",
              "      <td>[(deeds, n), (reason, n), (earthquake, n), (ma...</td>\n",
              "    </tr>\n",
              "    <tr>\n",
              "      <th>1</th>\n",
              "      <td>4</td>\n",
              "      <td>NaN</td>\n",
              "      <td>NaN</td>\n",
              "      <td>Forest fire near La Ronge Sask. Canada</td>\n",
              "      <td>Forest fire near La Ronge Sask Canada</td>\n",
              "      <td>[Forest, fire, near, La, Ronge, Sask, Canada]</td>\n",
              "      <td>[forest, fire, near, la, ronge, sask, canada]</td>\n",
              "      <td>[forest, fire, near, la, ronge, sask, canada]</td>\n",
              "      <td>[(forest, JJS), (fire, NN), (near, IN), (la, J...</td>\n",
              "      <td>[(forest, a), (fire, n), (near, n), (la, a), (...</td>\n",
              "    </tr>\n",
              "    <tr>\n",
              "      <th>2</th>\n",
              "      <td>5</td>\n",
              "      <td>NaN</td>\n",
              "      <td>NaN</td>\n",
              "      <td>All residents asked to 'shelter in place' are ...</td>\n",
              "      <td>All residents asked to shelter in place are be...</td>\n",
              "      <td>[All, residents, asked, to, shelter, in, place...</td>\n",
              "      <td>[all, residents, asked, to, shelter, in, place...</td>\n",
              "      <td>[residents, asked, shelter, place, notified, o...</td>\n",
              "      <td>[(residents, NNS), (asked, VBD), (shelter, JJ)...</td>\n",
              "      <td>[(residents, n), (asked, v), (shelter, a), (pl...</td>\n",
              "    </tr>\n",
              "    <tr>\n",
              "      <th>3</th>\n",
              "      <td>6</td>\n",
              "      <td>NaN</td>\n",
              "      <td>NaN</td>\n",
              "      <td>13,000 people receive #wildfires evacuation or...</td>\n",
              "      <td>13000 people receive wildfires evacuation orde...</td>\n",
              "      <td>[13000, people, receive, wildfires, evacuation...</td>\n",
              "      <td>[13000, people, receive, wildfires, evacuation...</td>\n",
              "      <td>[13000, people, receive, wildfires, evacuation...</td>\n",
              "      <td>[(13000, CD), (people, NNS), (receive, JJ), (w...</td>\n",
              "      <td>[(13000, n), (people, n), (receive, a), (wildf...</td>\n",
              "    </tr>\n",
              "    <tr>\n",
              "      <th>4</th>\n",
              "      <td>7</td>\n",
              "      <td>NaN</td>\n",
              "      <td>NaN</td>\n",
              "      <td>Just got sent this photo from Ruby #Alaska as ...</td>\n",
              "      <td>Just got sent this photo from Ruby Alaska as s...</td>\n",
              "      <td>[Just, got, sent, this, photo, from, Ruby, Ala...</td>\n",
              "      <td>[just, got, sent, this, photo, from, ruby, ala...</td>\n",
              "      <td>[got, sent, photo, ruby, alaska, smoke, wildfi...</td>\n",
              "      <td>[(got, VBD), (sent, JJ), (photo, NN), (ruby, N...</td>\n",
              "      <td>[(got, v), (sent, a), (photo, n), (ruby, n), (...</td>\n",
              "    </tr>\n",
              "  </tbody>\n",
              "</table>\n",
              "</div>"
            ],
            "text/plain": [
              "   id keyword location                                               text  \\\n",
              "0   1     NaN      NaN  Our Deeds are the Reason of this #earthquake M...   \n",
              "1   4     NaN      NaN             Forest fire near La Ronge Sask. Canada   \n",
              "2   5     NaN      NaN  All residents asked to 'shelter in place' are ...   \n",
              "3   6     NaN      NaN  13,000 people receive #wildfires evacuation or...   \n",
              "4   7     NaN      NaN  Just got sent this photo from Ruby #Alaska as ...   \n",
              "\n",
              "                                            mod_text  \\\n",
              "0  Our Deeds are the Reason of this earthquake Ma...   \n",
              "1              Forest fire near La Ronge Sask Canada   \n",
              "2  All residents asked to shelter in place are be...   \n",
              "3  13000 people receive wildfires evacuation orde...   \n",
              "4  Just got sent this photo from Ruby Alaska as s...   \n",
              "\n",
              "                                           tokenized  \\\n",
              "0  [Our, Deeds, are, the, Reason, of, this, earth...   \n",
              "1      [Forest, fire, near, La, Ronge, Sask, Canada]   \n",
              "2  [All, residents, asked, to, shelter, in, place...   \n",
              "3  [13000, people, receive, wildfires, evacuation...   \n",
              "4  [Just, got, sent, this, photo, from, Ruby, Ala...   \n",
              "\n",
              "                                               lower  \\\n",
              "0  [our, deeds, are, the, reason, of, this, earth...   \n",
              "1      [forest, fire, near, la, ronge, sask, canada]   \n",
              "2  [all, residents, asked, to, shelter, in, place...   \n",
              "3  [13000, people, receive, wildfires, evacuation...   \n",
              "4  [just, got, sent, this, photo, from, ruby, ala...   \n",
              "\n",
              "                                   stopwords_removed  \\\n",
              "0  [deeds, reason, earthquake, may, allah, forgiv...   \n",
              "1      [forest, fire, near, la, ronge, sask, canada]   \n",
              "2  [residents, asked, shelter, place, notified, o...   \n",
              "3  [13000, people, receive, wildfires, evacuation...   \n",
              "4  [got, sent, photo, ruby, alaska, smoke, wildfi...   \n",
              "\n",
              "                                            pos_tags  \\\n",
              "0  [(deeds, NNS), (reason, NN), (earthquake, NN),...   \n",
              "1  [(forest, JJS), (fire, NN), (near, IN), (la, J...   \n",
              "2  [(residents, NNS), (asked, VBD), (shelter, JJ)...   \n",
              "3  [(13000, CD), (people, NNS), (receive, JJ), (w...   \n",
              "4  [(got, VBD), (sent, JJ), (photo, NN), (ruby, N...   \n",
              "\n",
              "                                         wordnet_pos  \n",
              "0  [(deeds, n), (reason, n), (earthquake, n), (ma...  \n",
              "1  [(forest, a), (fire, n), (near, n), (la, a), (...  \n",
              "2  [(residents, n), (asked, v), (shelter, a), (pl...  \n",
              "3  [(13000, n), (people, n), (receive, a), (wildf...  \n",
              "4  [(got, v), (sent, a), (photo, n), (ruby, n), (...  "
            ]
          },
          "execution_count": 17,
          "metadata": {},
          "output_type": "execute_result"
        }
      ],
      "source": [
        "def get_wordnet_pos(tag):\n",
        "    if tag.startswith('J'):\n",
        "        return wordnet.ADJ\n",
        "    elif tag.startswith('V'):\n",
        "        return wordnet.VERB\n",
        "    elif tag.startswith('N'):\n",
        "        return wordnet.NOUN\n",
        "    elif tag.startswith('R'):\n",
        "        return wordnet.ADV\n",
        "    else:\n",
        "        return wordnet.NOUN\n",
        "\n",
        "\n",
        "df['wordnet_pos'] = df['pos_tags'].apply(\n",
        "    lambda x: [(word, get_wordnet_pos(pos_tag)) for (word, pos_tag) in x])\n",
        "\n",
        "df.head()"
      ]
    },
    {
      "cell_type": "code",
      "execution_count": null,
      "id": "060bfd1b",
      "metadata": {
        "execution": {
          "iopub.execute_input": "2022-09-15T16:25:40.651257Z",
          "iopub.status.busy": "2022-09-15T16:25:40.650481Z",
          "iopub.status.idle": "2022-09-15T16:25:41.274796Z",
          "shell.execute_reply": "2022-09-15T16:25:41.273661Z"
        },
        "papermill": {
          "duration": 0.64445,
          "end_time": "2022-09-15T16:25:41.277162",
          "exception": false,
          "start_time": "2022-09-15T16:25:40.632712",
          "status": "completed"
        },
        "tags": [],
        "id": "060bfd1b",
        "outputId": "6157c42b-5027-497f-fc4f-37e10f2c37d1"
      },
      "outputs": [
        {
          "data": {
            "text/html": [
              "<div>\n",
              "<style scoped>\n",
              "    .dataframe tbody tr th:only-of-type {\n",
              "        vertical-align: middle;\n",
              "    }\n",
              "\n",
              "    .dataframe tbody tr th {\n",
              "        vertical-align: top;\n",
              "    }\n",
              "\n",
              "    .dataframe thead th {\n",
              "        text-align: right;\n",
              "    }\n",
              "</style>\n",
              "<table border=\"1\" class=\"dataframe\">\n",
              "  <thead>\n",
              "    <tr style=\"text-align: right;\">\n",
              "      <th></th>\n",
              "      <th>id</th>\n",
              "      <th>keyword</th>\n",
              "      <th>location</th>\n",
              "      <th>text</th>\n",
              "      <th>mod_text</th>\n",
              "      <th>tokenized</th>\n",
              "      <th>lower</th>\n",
              "      <th>stopwords_removed</th>\n",
              "      <th>pos_tags</th>\n",
              "      <th>wordnet_pos</th>\n",
              "      <th>lemmatized</th>\n",
              "      <th>lemma_str</th>\n",
              "    </tr>\n",
              "  </thead>\n",
              "  <tbody>\n",
              "    <tr>\n",
              "      <th>0</th>\n",
              "      <td>1</td>\n",
              "      <td>NaN</td>\n",
              "      <td>NaN</td>\n",
              "      <td>Our Deeds are the Reason of this #earthquake M...</td>\n",
              "      <td>Our Deeds are the Reason of this earthquake Ma...</td>\n",
              "      <td>[Our, Deeds, are, the, Reason, of, this, earth...</td>\n",
              "      <td>[our, deeds, are, the, reason, of, this, earth...</td>\n",
              "      <td>[deeds, reason, earthquake, may, allah, forgiv...</td>\n",
              "      <td>[(deeds, NNS), (reason, NN), (earthquake, NN),...</td>\n",
              "      <td>[(deeds, n), (reason, n), (earthquake, n), (ma...</td>\n",
              "      <td>[deed, reason, earthquake, may, allah, forgive...</td>\n",
              "      <td>deed reason earthquake may allah forgive u</td>\n",
              "    </tr>\n",
              "    <tr>\n",
              "      <th>1</th>\n",
              "      <td>4</td>\n",
              "      <td>NaN</td>\n",
              "      <td>NaN</td>\n",
              "      <td>Forest fire near La Ronge Sask. Canada</td>\n",
              "      <td>Forest fire near La Ronge Sask Canada</td>\n",
              "      <td>[Forest, fire, near, La, Ronge, Sask, Canada]</td>\n",
              "      <td>[forest, fire, near, la, ronge, sask, canada]</td>\n",
              "      <td>[forest, fire, near, la, ronge, sask, canada]</td>\n",
              "      <td>[(forest, JJS), (fire, NN), (near, IN), (la, J...</td>\n",
              "      <td>[(forest, a), (fire, n), (near, n), (la, a), (...</td>\n",
              "      <td>[forest, fire, near, la, ronge, sask, canada]</td>\n",
              "      <td>forest fire near la ronge sask canada</td>\n",
              "    </tr>\n",
              "    <tr>\n",
              "      <th>2</th>\n",
              "      <td>5</td>\n",
              "      <td>NaN</td>\n",
              "      <td>NaN</td>\n",
              "      <td>All residents asked to 'shelter in place' are ...</td>\n",
              "      <td>All residents asked to shelter in place are be...</td>\n",
              "      <td>[All, residents, asked, to, shelter, in, place...</td>\n",
              "      <td>[all, residents, asked, to, shelter, in, place...</td>\n",
              "      <td>[residents, asked, shelter, place, notified, o...</td>\n",
              "      <td>[(residents, NNS), (asked, VBD), (shelter, JJ)...</td>\n",
              "      <td>[(residents, n), (asked, v), (shelter, a), (pl...</td>\n",
              "      <td>[resident, ask, shelter, place, notify, office...</td>\n",
              "      <td>resident ask shelter place notify officer evac...</td>\n",
              "    </tr>\n",
              "    <tr>\n",
              "      <th>3</th>\n",
              "      <td>6</td>\n",
              "      <td>NaN</td>\n",
              "      <td>NaN</td>\n",
              "      <td>13,000 people receive #wildfires evacuation or...</td>\n",
              "      <td>13000 people receive wildfires evacuation orde...</td>\n",
              "      <td>[13000, people, receive, wildfires, evacuation...</td>\n",
              "      <td>[13000, people, receive, wildfires, evacuation...</td>\n",
              "      <td>[13000, people, receive, wildfires, evacuation...</td>\n",
              "      <td>[(13000, CD), (people, NNS), (receive, JJ), (w...</td>\n",
              "      <td>[(13000, n), (people, n), (receive, a), (wildf...</td>\n",
              "      <td>[13000, people, receive, wildfire, evacuation,...</td>\n",
              "      <td>13000 people receive wildfire evacuation order...</td>\n",
              "    </tr>\n",
              "    <tr>\n",
              "      <th>4</th>\n",
              "      <td>7</td>\n",
              "      <td>NaN</td>\n",
              "      <td>NaN</td>\n",
              "      <td>Just got sent this photo from Ruby #Alaska as ...</td>\n",
              "      <td>Just got sent this photo from Ruby Alaska as s...</td>\n",
              "      <td>[Just, got, sent, this, photo, from, Ruby, Ala...</td>\n",
              "      <td>[just, got, sent, this, photo, from, ruby, ala...</td>\n",
              "      <td>[got, sent, photo, ruby, alaska, smoke, wildfi...</td>\n",
              "      <td>[(got, VBD), (sent, JJ), (photo, NN), (ruby, N...</td>\n",
              "      <td>[(got, v), (sent, a), (photo, n), (ruby, n), (...</td>\n",
              "      <td>[get, sent, photo, ruby, alaska, smoke, wildfi...</td>\n",
              "      <td>get sent photo ruby alaska smoke wildfires pou...</td>\n",
              "    </tr>\n",
              "  </tbody>\n",
              "</table>\n",
              "</div>"
            ],
            "text/plain": [
              "   id keyword location                                               text  \\\n",
              "0   1     NaN      NaN  Our Deeds are the Reason of this #earthquake M...   \n",
              "1   4     NaN      NaN             Forest fire near La Ronge Sask. Canada   \n",
              "2   5     NaN      NaN  All residents asked to 'shelter in place' are ...   \n",
              "3   6     NaN      NaN  13,000 people receive #wildfires evacuation or...   \n",
              "4   7     NaN      NaN  Just got sent this photo from Ruby #Alaska as ...   \n",
              "\n",
              "                                            mod_text  \\\n",
              "0  Our Deeds are the Reason of this earthquake Ma...   \n",
              "1              Forest fire near La Ronge Sask Canada   \n",
              "2  All residents asked to shelter in place are be...   \n",
              "3  13000 people receive wildfires evacuation orde...   \n",
              "4  Just got sent this photo from Ruby Alaska as s...   \n",
              "\n",
              "                                           tokenized  \\\n",
              "0  [Our, Deeds, are, the, Reason, of, this, earth...   \n",
              "1      [Forest, fire, near, La, Ronge, Sask, Canada]   \n",
              "2  [All, residents, asked, to, shelter, in, place...   \n",
              "3  [13000, people, receive, wildfires, evacuation...   \n",
              "4  [Just, got, sent, this, photo, from, Ruby, Ala...   \n",
              "\n",
              "                                               lower  \\\n",
              "0  [our, deeds, are, the, reason, of, this, earth...   \n",
              "1      [forest, fire, near, la, ronge, sask, canada]   \n",
              "2  [all, residents, asked, to, shelter, in, place...   \n",
              "3  [13000, people, receive, wildfires, evacuation...   \n",
              "4  [just, got, sent, this, photo, from, ruby, ala...   \n",
              "\n",
              "                                   stopwords_removed  \\\n",
              "0  [deeds, reason, earthquake, may, allah, forgiv...   \n",
              "1      [forest, fire, near, la, ronge, sask, canada]   \n",
              "2  [residents, asked, shelter, place, notified, o...   \n",
              "3  [13000, people, receive, wildfires, evacuation...   \n",
              "4  [got, sent, photo, ruby, alaska, smoke, wildfi...   \n",
              "\n",
              "                                            pos_tags  \\\n",
              "0  [(deeds, NNS), (reason, NN), (earthquake, NN),...   \n",
              "1  [(forest, JJS), (fire, NN), (near, IN), (la, J...   \n",
              "2  [(residents, NNS), (asked, VBD), (shelter, JJ)...   \n",
              "3  [(13000, CD), (people, NNS), (receive, JJ), (w...   \n",
              "4  [(got, VBD), (sent, JJ), (photo, NN), (ruby, N...   \n",
              "\n",
              "                                         wordnet_pos  \\\n",
              "0  [(deeds, n), (reason, n), (earthquake, n), (ma...   \n",
              "1  [(forest, a), (fire, n), (near, n), (la, a), (...   \n",
              "2  [(residents, n), (asked, v), (shelter, a), (pl...   \n",
              "3  [(13000, n), (people, n), (receive, a), (wildf...   \n",
              "4  [(got, v), (sent, a), (photo, n), (ruby, n), (...   \n",
              "\n",
              "                                          lemmatized  \\\n",
              "0  [deed, reason, earthquake, may, allah, forgive...   \n",
              "1      [forest, fire, near, la, ronge, sask, canada]   \n",
              "2  [resident, ask, shelter, place, notify, office...   \n",
              "3  [13000, people, receive, wildfire, evacuation,...   \n",
              "4  [get, sent, photo, ruby, alaska, smoke, wildfi...   \n",
              "\n",
              "                                           lemma_str  \n",
              "0         deed reason earthquake may allah forgive u  \n",
              "1              forest fire near la ronge sask canada  \n",
              "2  resident ask shelter place notify officer evac...  \n",
              "3  13000 people receive wildfire evacuation order...  \n",
              "4  get sent photo ruby alaska smoke wildfires pou...  "
            ]
          },
          "execution_count": 18,
          "metadata": {},
          "output_type": "execute_result"
        }
      ],
      "source": [
        "wnl = WordNetLemmatizer()\n",
        "\n",
        "df['lemmatized'] = df['wordnet_pos'].apply(\n",
        "    lambda x: [wnl.lemmatize(word, tag) for word, tag in x])\n",
        "\n",
        "df['lemmatized'] = df['lemmatized'].apply(\n",
        "    lambda x: [word for word in x if word not in stop_words])\n",
        "\n",
        "df['lemma_str'] = [' '.join(map(str, l)) for l in df['lemmatized']]\n",
        "\n",
        "df.head()"
      ]
    },
    {
      "cell_type": "code",
      "execution_count": null,
      "id": "dd76c9c4",
      "metadata": {
        "execution": {
          "iopub.execute_input": "2022-09-15T16:25:41.312633Z",
          "iopub.status.busy": "2022-09-15T16:25:41.312256Z",
          "iopub.status.idle": "2022-09-15T16:25:41.317290Z",
          "shell.execute_reply": "2022-09-15T16:25:41.316220Z"
        },
        "papermill": {
          "duration": 0.025618,
          "end_time": "2022-09-15T16:25:41.319767",
          "exception": false,
          "start_time": "2022-09-15T16:25:41.294149",
          "status": "completed"
        },
        "tags": [],
        "id": "dd76c9c4",
        "outputId": "4796613e-57ba-4c3c-9c09-d285d7cdfbe6"
      },
      "outputs": [
        {
          "name": "stdout",
          "output_type": "stream",
          "text": [
            "Total Rows = 10876\n"
          ]
        }
      ],
      "source": [
        "print(\"Total Rows =\", len(df.lemmatized))"
      ]
    },
    {
      "cell_type": "code",
      "execution_count": null,
      "id": "85125231",
      "metadata": {
        "execution": {
          "iopub.execute_input": "2022-09-15T16:25:41.354793Z",
          "iopub.status.busy": "2022-09-15T16:25:41.354369Z",
          "iopub.status.idle": "2022-09-15T16:25:41.370497Z",
          "shell.execute_reply": "2022-09-15T16:25:41.369242Z"
        },
        "papermill": {
          "duration": 0.036499,
          "end_time": "2022-09-15T16:25:41.372828",
          "exception": false,
          "start_time": "2022-09-15T16:25:41.336329",
          "status": "completed"
        },
        "tags": [],
        "id": "85125231",
        "outputId": "7c70558d-77f2-4c46-8923-9b7aec81d852"
      },
      "outputs": [
        {
          "data": {
            "text/html": [
              "<div>\n",
              "<style scoped>\n",
              "    .dataframe tbody tr th:only-of-type {\n",
              "        vertical-align: middle;\n",
              "    }\n",
              "\n",
              "    .dataframe tbody tr th {\n",
              "        vertical-align: top;\n",
              "    }\n",
              "\n",
              "    .dataframe thead th {\n",
              "        text-align: right;\n",
              "    }\n",
              "</style>\n",
              "<table border=\"1\" class=\"dataframe\">\n",
              "  <thead>\n",
              "    <tr style=\"text-align: right;\">\n",
              "      <th></th>\n",
              "      <th>lemma_str</th>\n",
              "      <th>id</th>\n",
              "    </tr>\n",
              "  </thead>\n",
              "  <tbody>\n",
              "    <tr>\n",
              "      <th>0</th>\n",
              "      <td>deed reason earthquake may allah forgive u</td>\n",
              "      <td>1</td>\n",
              "    </tr>\n",
              "    <tr>\n",
              "      <th>1</th>\n",
              "      <td>forest fire near la ronge sask canada</td>\n",
              "      <td>4</td>\n",
              "    </tr>\n",
              "    <tr>\n",
              "      <th>2</th>\n",
              "      <td>resident ask shelter place notify officer evac...</td>\n",
              "      <td>5</td>\n",
              "    </tr>\n",
              "    <tr>\n",
              "      <th>3</th>\n",
              "      <td>13000 people receive wildfire evacuation order...</td>\n",
              "      <td>6</td>\n",
              "    </tr>\n",
              "    <tr>\n",
              "      <th>4</th>\n",
              "      <td>get sent photo ruby alaska smoke wildfires pou...</td>\n",
              "      <td>7</td>\n",
              "    </tr>\n",
              "  </tbody>\n",
              "</table>\n",
              "</div>"
            ],
            "text/plain": [
              "                                           lemma_str  id\n",
              "0         deed reason earthquake may allah forgive u   1\n",
              "1              forest fire near la ronge sask canada   4\n",
              "2  resident ask shelter place notify officer evac...   5\n",
              "3  13000 people receive wildfire evacuation order...   6\n",
              "4  get sent photo ruby alaska smoke wildfires pou...   7"
            ]
          },
          "execution_count": 20,
          "metadata": {},
          "output_type": "execute_result"
        }
      ],
      "source": [
        "df_final = df[[\"lemma_str\", \"id\"]]\n",
        "df_final.head()"
      ]
    },
    {
      "cell_type": "code",
      "execution_count": null,
      "id": "15ffcc26",
      "metadata": {
        "execution": {
          "iopub.execute_input": "2022-09-15T16:25:41.409279Z",
          "iopub.status.busy": "2022-09-15T16:25:41.408872Z",
          "iopub.status.idle": "2022-09-15T16:25:41.434363Z",
          "shell.execute_reply": "2022-09-15T16:25:41.433246Z"
        },
        "papermill": {
          "duration": 0.046345,
          "end_time": "2022-09-15T16:25:41.436884",
          "exception": false,
          "start_time": "2022-09-15T16:25:41.390539",
          "status": "completed"
        },
        "tags": [],
        "id": "15ffcc26",
        "outputId": "6969fe8a-d5bd-4de0-d79e-304bd4e7e0e4"
      },
      "outputs": [
        {
          "data": {
            "text/html": [
              "<div>\n",
              "<style scoped>\n",
              "    .dataframe tbody tr th:only-of-type {\n",
              "        vertical-align: middle;\n",
              "    }\n",
              "\n",
              "    .dataframe tbody tr th {\n",
              "        vertical-align: top;\n",
              "    }\n",
              "\n",
              "    .dataframe thead th {\n",
              "        text-align: right;\n",
              "    }\n",
              "</style>\n",
              "<table border=\"1\" class=\"dataframe\">\n",
              "  <thead>\n",
              "    <tr style=\"text-align: right;\">\n",
              "      <th></th>\n",
              "      <th>id</th>\n",
              "      <th>keyword</th>\n",
              "      <th>location</th>\n",
              "      <th>text</th>\n",
              "      <th>target</th>\n",
              "      <th>lemma_str</th>\n",
              "    </tr>\n",
              "  </thead>\n",
              "  <tbody>\n",
              "    <tr>\n",
              "      <th>7608</th>\n",
              "      <td>10869</td>\n",
              "      <td>NaN</td>\n",
              "      <td>NaN</td>\n",
              "      <td>Two giant cranes holding a bridge collapse int...</td>\n",
              "      <td>1</td>\n",
              "      <td>two giant crane hold bridge collapse nearby home</td>\n",
              "    </tr>\n",
              "    <tr>\n",
              "      <th>7609</th>\n",
              "      <td>10870</td>\n",
              "      <td>NaN</td>\n",
              "      <td>NaN</td>\n",
              "      <td>@aria_ahrary @TheTawniest The out of control w...</td>\n",
              "      <td>1</td>\n",
              "      <td>ariaahrary thetawniest control wild fire calif...</td>\n",
              "    </tr>\n",
              "    <tr>\n",
              "      <th>7610</th>\n",
              "      <td>10871</td>\n",
              "      <td>NaN</td>\n",
              "      <td>NaN</td>\n",
              "      <td>M1.94 [01:04 UTC]?5km S of Volcano Hawaii. htt...</td>\n",
              "      <td>1</td>\n",
              "      <td>m194 0104 utc5km volcano hawaii</td>\n",
              "    </tr>\n",
              "    <tr>\n",
              "      <th>7611</th>\n",
              "      <td>10872</td>\n",
              "      <td>NaN</td>\n",
              "      <td>NaN</td>\n",
              "      <td>Police investigating after an e-bike collided ...</td>\n",
              "      <td>1</td>\n",
              "      <td>police investigate ebike collide car little po...</td>\n",
              "    </tr>\n",
              "    <tr>\n",
              "      <th>7612</th>\n",
              "      <td>10873</td>\n",
              "      <td>NaN</td>\n",
              "      <td>NaN</td>\n",
              "      <td>The Latest: More Homes Razed by Northern Calif...</td>\n",
              "      <td>1</td>\n",
              "      <td>late home raze northern california wildfire ab...</td>\n",
              "    </tr>\n",
              "  </tbody>\n",
              "</table>\n",
              "</div>"
            ],
            "text/plain": [
              "         id keyword location  \\\n",
              "7608  10869     NaN      NaN   \n",
              "7609  10870     NaN      NaN   \n",
              "7610  10871     NaN      NaN   \n",
              "7611  10872     NaN      NaN   \n",
              "7612  10873     NaN      NaN   \n",
              "\n",
              "                                                   text  target  \\\n",
              "7608  Two giant cranes holding a bridge collapse int...       1   \n",
              "7609  @aria_ahrary @TheTawniest The out of control w...       1   \n",
              "7610  M1.94 [01:04 UTC]?5km S of Volcano Hawaii. htt...       1   \n",
              "7611  Police investigating after an e-bike collided ...       1   \n",
              "7612  The Latest: More Homes Razed by Northern Calif...       1   \n",
              "\n",
              "                                              lemma_str  \n",
              "7608   two giant crane hold bridge collapse nearby home  \n",
              "7609  ariaahrary thetawniest control wild fire calif...  \n",
              "7610                    m194 0104 utc5km volcano hawaii  \n",
              "7611  police investigate ebike collide car little po...  \n",
              "7612  late home raze northern california wildfire ab...  "
            ]
          },
          "execution_count": 21,
          "metadata": {},
          "output_type": "execute_result"
        }
      ],
      "source": [
        "treated_train = pd.merge(train, df_final, on='id')\n",
        "treated_train.tail()\n",
        "\n"
      ]
    },
    {
      "cell_type": "code",
      "execution_count": null,
      "id": "8ae9112e",
      "metadata": {
        "execution": {
          "iopub.execute_input": "2022-09-15T16:25:41.472869Z",
          "iopub.status.busy": "2022-09-15T16:25:41.472480Z",
          "iopub.status.idle": "2022-09-15T16:25:41.477653Z",
          "shell.execute_reply": "2022-09-15T16:25:41.476454Z"
        },
        "papermill": {
          "duration": 0.025989,
          "end_time": "2022-09-15T16:25:41.479842",
          "exception": false,
          "start_time": "2022-09-15T16:25:41.453853",
          "status": "completed"
        },
        "tags": [],
        "id": "8ae9112e"
      },
      "outputs": [],
      "source": [
        "y = treated_train['target']"
      ]
    },
    {
      "cell_type": "code",
      "execution_count": null,
      "id": "05b21045",
      "metadata": {
        "execution": {
          "iopub.execute_input": "2022-09-15T16:25:41.515491Z",
          "iopub.status.busy": "2022-09-15T16:25:41.515067Z",
          "iopub.status.idle": "2022-09-15T16:25:41.537190Z",
          "shell.execute_reply": "2022-09-15T16:25:41.535856Z"
        },
        "papermill": {
          "duration": 0.042792,
          "end_time": "2022-09-15T16:25:41.539641",
          "exception": false,
          "start_time": "2022-09-15T16:25:41.496849",
          "status": "completed"
        },
        "tags": [],
        "id": "05b21045",
        "outputId": "d8e847b6-87f7-4556-b356-11e8a69f5c86"
      },
      "outputs": [
        {
          "data": {
            "text/html": [
              "<div>\n",
              "<style scoped>\n",
              "    .dataframe tbody tr th:only-of-type {\n",
              "        vertical-align: middle;\n",
              "    }\n",
              "\n",
              "    .dataframe tbody tr th {\n",
              "        vertical-align: top;\n",
              "    }\n",
              "\n",
              "    .dataframe thead th {\n",
              "        text-align: right;\n",
              "    }\n",
              "</style>\n",
              "<table border=\"1\" class=\"dataframe\">\n",
              "  <thead>\n",
              "    <tr style=\"text-align: right;\">\n",
              "      <th></th>\n",
              "      <th>id</th>\n",
              "      <th>keyword</th>\n",
              "      <th>location</th>\n",
              "      <th>text</th>\n",
              "      <th>lemma_str</th>\n",
              "    </tr>\n",
              "  </thead>\n",
              "  <tbody>\n",
              "    <tr>\n",
              "      <th>3258</th>\n",
              "      <td>10861</td>\n",
              "      <td>NaN</td>\n",
              "      <td>NaN</td>\n",
              "      <td>EARTHQUAKE SAFETY LOS ANGELES ÛÒ SAFETY FASTE...</td>\n",
              "      <td>earthquake safety los angeles safety fastener ...</td>\n",
              "    </tr>\n",
              "    <tr>\n",
              "      <th>3259</th>\n",
              "      <td>10865</td>\n",
              "      <td>NaN</td>\n",
              "      <td>NaN</td>\n",
              "      <td>Storm in RI worse than last hurricane. My city...</td>\n",
              "      <td>storm ri bad last hurricane cityamp3others har...</td>\n",
              "    </tr>\n",
              "    <tr>\n",
              "      <th>3260</th>\n",
              "      <td>10868</td>\n",
              "      <td>NaN</td>\n",
              "      <td>NaN</td>\n",
              "      <td>Green Line derailment in Chicago http://t.co/U...</td>\n",
              "      <td>green line derailment chicago</td>\n",
              "    </tr>\n",
              "    <tr>\n",
              "      <th>3261</th>\n",
              "      <td>10874</td>\n",
              "      <td>NaN</td>\n",
              "      <td>NaN</td>\n",
              "      <td>MEG issues Hazardous Weather Outlook (HWO) htt...</td>\n",
              "      <td>meg issue hazardous weather outlook hwo</td>\n",
              "    </tr>\n",
              "    <tr>\n",
              "      <th>3262</th>\n",
              "      <td>10875</td>\n",
              "      <td>NaN</td>\n",
              "      <td>NaN</td>\n",
              "      <td>#CityofCalgary has activated its Municipal Eme...</td>\n",
              "      <td>cityofcalgary activate municipal emergency pla...</td>\n",
              "    </tr>\n",
              "  </tbody>\n",
              "</table>\n",
              "</div>"
            ],
            "text/plain": [
              "         id keyword location  \\\n",
              "3258  10861     NaN      NaN   \n",
              "3259  10865     NaN      NaN   \n",
              "3260  10868     NaN      NaN   \n",
              "3261  10874     NaN      NaN   \n",
              "3262  10875     NaN      NaN   \n",
              "\n",
              "                                                   text  \\\n",
              "3258  EARTHQUAKE SAFETY LOS ANGELES ÛÒ SAFETY FASTE...   \n",
              "3259  Storm in RI worse than last hurricane. My city...   \n",
              "3260  Green Line derailment in Chicago http://t.co/U...   \n",
              "3261  MEG issues Hazardous Weather Outlook (HWO) htt...   \n",
              "3262  #CityofCalgary has activated its Municipal Eme...   \n",
              "\n",
              "                                              lemma_str  \n",
              "3258  earthquake safety los angeles safety fastener ...  \n",
              "3259  storm ri bad last hurricane cityamp3others har...  \n",
              "3260                      green line derailment chicago  \n",
              "3261            meg issue hazardous weather outlook hwo  \n",
              "3262  cityofcalgary activate municipal emergency pla...  "
            ]
          },
          "execution_count": 23,
          "metadata": {},
          "output_type": "execute_result"
        }
      ],
      "source": [
        "treated_test = pd.merge(test, df_final, on='id')\n",
        "treated_test.tail()\n",
        "\n"
      ]
    },
    {
      "cell_type": "code",
      "execution_count": null,
      "id": "863cf514",
      "metadata": {
        "execution": {
          "iopub.execute_input": "2022-09-15T16:25:41.713928Z",
          "iopub.status.busy": "2022-09-15T16:25:41.713120Z",
          "iopub.status.idle": "2022-09-15T16:25:41.999987Z",
          "shell.execute_reply": "2022-09-15T16:25:41.998962Z"
        },
        "papermill": {
          "duration": 0.308685,
          "end_time": "2022-09-15T16:25:42.002780",
          "exception": false,
          "start_time": "2022-09-15T16:25:41.694095",
          "status": "completed"
        },
        "tags": [],
        "id": "863cf514"
      },
      "outputs": [],
      "source": [
        "max_features=3000\n",
        "tokenizer=Tokenizer(num_words=max_features,split=' ')\n",
        "tokenizer.fit_on_texts(treated_train['lemma_str'].values)\n",
        "X = tokenizer.texts_to_sequences(treated_train['lemma_str'].values)\n",
        "X = pad_sequences(X)"
      ]
    },
    {
      "cell_type": "code",
      "execution_count": null,
      "id": "6476aaa1",
      "metadata": {
        "execution": {
          "iopub.execute_input": "2022-09-15T16:25:42.155771Z",
          "iopub.status.busy": "2022-09-15T16:25:42.155027Z",
          "iopub.status.idle": "2022-09-15T16:25:42.159312Z",
          "shell.execute_reply": "2022-09-15T16:25:42.158548Z"
        },
        "papermill": {
          "duration": 0.024943,
          "end_time": "2022-09-15T16:25:42.161375",
          "exception": false,
          "start_time": "2022-09-15T16:25:42.136432",
          "status": "completed"
        },
        "tags": [],
        "id": "6476aaa1"
      },
      "outputs": [],
      "source": [
        "os.environ['TF_XLA_FLAGS'] = '--tf_xla_enable_xla_devices'"
      ]
    },
    {
      "cell_type": "code",
      "execution_count": null,
      "id": "9309405c",
      "metadata": {
        "execution": {
          "iopub.execute_input": "2022-09-15T16:25:42.198463Z",
          "iopub.status.busy": "2022-09-15T16:25:42.197741Z",
          "iopub.status.idle": "2022-09-15T16:25:42.202437Z",
          "shell.execute_reply": "2022-09-15T16:25:42.201554Z"
        },
        "papermill": {
          "duration": 0.025481,
          "end_time": "2022-09-15T16:25:42.204410",
          "exception": false,
          "start_time": "2022-09-15T16:25:42.178929",
          "status": "completed"
        },
        "tags": [],
        "id": "9309405c"
      },
      "outputs": [],
      "source": [
        "callbacks = [ ReduceLROnPlateau(monitor='val_loss', patience=5, cooldown=0),\n",
        "              EarlyStopping(monitor='val_acc', min_delta=1e-4, patience=5)]"
      ]
    },
    {
      "cell_type": "code",
      "execution_count": null,
      "id": "0a29a335",
      "metadata": {
        "execution": {
          "iopub.execute_input": "2022-09-15T16:25:42.240909Z",
          "iopub.status.busy": "2022-09-15T16:25:42.240192Z",
          "iopub.status.idle": "2022-09-15T16:25:42.564976Z",
          "shell.execute_reply": "2022-09-15T16:25:42.563482Z"
        },
        "papermill": {
          "duration": 0.346431,
          "end_time": "2022-09-15T16:25:42.568100",
          "exception": false,
          "start_time": "2022-09-15T16:25:42.221669",
          "status": "completed"
        },
        "tags": [],
        "id": "0a29a335",
        "outputId": "448826d8-cd35-4a65-8249-436f5ede5175"
      },
      "outputs": [
        {
          "name": "stderr",
          "output_type": "stream",
          "text": [
            "2022-09-15 16:25:42.302335: I tensorflow/compiler/xla/service/service.cc:171] XLA service 0x55769797cbb0 initialized for platform Host (this does not guarantee that XLA will be used). Devices:\n",
            "2022-09-15 16:25:42.302398: I tensorflow/compiler/xla/service/service.cc:179]   StreamExecutor device (0): Host, Default Version\n",
            "2022-09-15 16:25:42.303617: I tensorflow/core/common_runtime/process_util.cc:146] Creating new thread pool with default inter op setting: 2. Tune using inter_op_parallelism_threads for best performance.\n"
          ]
        },
        {
          "name": "stdout",
          "output_type": "stream",
          "text": [
            "Model: \"sequential\"\n",
            "_________________________________________________________________\n",
            "Layer (type)                 Output Shape              Param #   \n",
            "=================================================================\n",
            "embedding (Embedding)        (None, 20, 32)            96000     \n",
            "_________________________________________________________________\n",
            "dropout (Dropout)            (None, 20, 32)            0         \n",
            "_________________________________________________________________\n",
            "lstm (LSTM)                  (None, 32)                8320      \n",
            "_________________________________________________________________\n",
            "dense (Dense)                (None, 1)                 33        \n",
            "=================================================================\n",
            "Total params: 104,353\n",
            "Trainable params: 104,353\n",
            "Non-trainable params: 0\n",
            "_________________________________________________________________\n",
            "None\n"
          ]
        }
      ],
      "source": [
        "embed_dim = 32\n",
        "lstm_out = 32\n",
        "model = Sequential()\n",
        "model.add(Embedding(max_features, embed_dim,input_length = X.shape[1]))\n",
        "model.add(Dropout(0.2))\n",
        "model.add(LSTM(lstm_out, dropout=0.2, recurrent_dropout=0.4))\n",
        "model.add(Dense(1,activation='sigmoid'))\n",
        "adam = optimizers.Adam(learning_rate=0.002)\n",
        "model.compile(loss = 'binary_crossentropy', optimizer=adam ,metrics = ['accuracy'])\n",
        "print(model.summary())"
      ]
    },
    {
      "cell_type": "code",
      "execution_count": null,
      "id": "c7a17cd0",
      "metadata": {
        "execution": {
          "iopub.execute_input": "2022-09-15T16:25:42.641049Z",
          "iopub.status.busy": "2022-09-15T16:25:42.639954Z",
          "iopub.status.idle": "2022-09-15T16:26:57.718413Z",
          "shell.execute_reply": "2022-09-15T16:26:57.717158Z"
        },
        "papermill": {
          "duration": 75.099811,
          "end_time": "2022-09-15T16:26:57.720893",
          "exception": false,
          "start_time": "2022-09-15T16:25:42.621082",
          "status": "completed"
        },
        "tags": [],
        "id": "c7a17cd0",
        "outputId": "5381d7c4-bc4b-473a-d544-99c931d537d6"
      },
      "outputs": [
        {
          "name": "stderr",
          "output_type": "stream",
          "text": [
            "2022-09-15 16:25:42.699999: I tensorflow/compiler/mlir/mlir_graph_optimization_pass.cc:185] None of the MLIR Optimization Passes are enabled (registered 2)\n"
          ]
        },
        {
          "name": "stdout",
          "output_type": "stream",
          "text": [
            "Epoch 1/10\n",
            "191/191 [==============================] - 11s 39ms/step - loss: 0.5410 - accuracy: 0.7271 - val_loss: 0.4339 - val_accuracy: 0.8050\n",
            "Epoch 2/10\n",
            "191/191 [==============================] - 7s 36ms/step - loss: 0.3722 - accuracy: 0.8379 - val_loss: 0.4468 - val_accuracy: 0.8070\n",
            "Epoch 3/10\n",
            "191/191 [==============================] - 7s 38ms/step - loss: 0.3241 - accuracy: 0.8650 - val_loss: 0.4750 - val_accuracy: 0.8011\n",
            "Epoch 4/10\n",
            "191/191 [==============================] - 8s 40ms/step - loss: 0.2877 - accuracy: 0.8852 - val_loss: 0.5377 - val_accuracy: 0.7886\n",
            "Epoch 5/10\n",
            "191/191 [==============================] - 7s 36ms/step - loss: 0.2638 - accuracy: 0.8901 - val_loss: 0.5748 - val_accuracy: 0.7787\n",
            "Epoch 6/10\n",
            "191/191 [==============================] - 7s 37ms/step - loss: 0.2338 - accuracy: 0.9036 - val_loss: 0.6114 - val_accuracy: 0.7748\n",
            "Epoch 7/10\n",
            "191/191 [==============================] - 7s 36ms/step - loss: 0.1858 - accuracy: 0.9282 - val_loss: 0.6811 - val_accuracy: 0.7846\n",
            "Epoch 8/10\n",
            "191/191 [==============================] - 7s 36ms/step - loss: 0.1743 - accuracy: 0.9291 - val_loss: 0.7129 - val_accuracy: 0.7820\n",
            "Epoch 9/10\n",
            "191/191 [==============================] - 7s 38ms/step - loss: 0.1659 - accuracy: 0.9315 - val_loss: 0.7423 - val_accuracy: 0.7833\n",
            "Epoch 10/10\n",
            "191/191 [==============================] - 7s 36ms/step - loss: 0.1589 - accuracy: 0.9314 - val_loss: 0.7743 - val_accuracy: 0.7787\n"
          ]
        }
      ],
      "source": [
        "history = model.fit(X_train, y_train, epochs = 10, batch_size=32, validation_data=(X_test, y_test), callbacks= [callbacks])"
      ]
    },
    {
      "cell_type": "code",
      "execution_count": null,
      "id": "d035d50e",
      "metadata": {
        "execution": {
          "iopub.execute_input": "2022-09-15T16:26:58.038478Z",
          "iopub.status.busy": "2022-09-15T16:26:58.037990Z",
          "iopub.status.idle": "2022-09-15T16:26:58.800624Z",
          "shell.execute_reply": "2022-09-15T16:26:58.798996Z"
        },
        "papermill": {
          "duration": 0.846007,
          "end_time": "2022-09-15T16:26:58.803506",
          "exception": false,
          "start_time": "2022-09-15T16:26:57.957499",
          "status": "completed"
        },
        "tags": [],
        "id": "d035d50e"
      },
      "outputs": [],
      "source": [
        "y_pred = model.predict(X_test).round()"
      ]
    },
    {
      "cell_type": "code",
      "execution_count": null,
      "id": "c51cb333",
      "metadata": {
        "execution": {
          "iopub.execute_input": "2022-09-15T16:26:59.121253Z",
          "iopub.status.busy": "2022-09-15T16:26:59.119985Z",
          "iopub.status.idle": "2022-09-15T16:27:00.627187Z",
          "shell.execute_reply": "2022-09-15T16:27:00.625506Z"
        },
        "papermill": {
          "duration": 1.590146,
          "end_time": "2022-09-15T16:27:00.630358",
          "exception": false,
          "start_time": "2022-09-15T16:26:59.040212",
          "status": "completed"
        },
        "tags": [],
        "id": "c51cb333",
        "outputId": "c7bf9694-58a0-4cdd-8e30-1a3d1b9bdb43"
      },
      "outputs": [
        {
          "name": "stdout",
          "output_type": "stream",
          "text": [
            "Accuracy Obtained = 94 %\n"
          ]
        }
      ],
      "source": [
        "train_accuracy = round(metrics.accuracy_score(y_train,model.predict(X_train).round())*100)\n",
        "print(\"Accuracy Obtained =\", train_accuracy, '%')\n"
      ]
    },
    {
      "cell_type": "code",
      "execution_count": null,
      "id": "9636e7f1",
      "metadata": {
        "execution": {
          "iopub.execute_input": "2022-09-15T16:27:00.787906Z",
          "iopub.status.busy": "2022-09-15T16:27:00.787235Z",
          "iopub.status.idle": "2022-09-15T16:27:00.797518Z",
          "shell.execute_reply": "2022-09-15T16:27:00.796606Z"
        },
        "papermill": {
          "duration": 0.092633,
          "end_time": "2022-09-15T16:27:00.801091",
          "exception": false,
          "start_time": "2022-09-15T16:27:00.708458",
          "status": "completed"
        },
        "tags": [],
        "id": "9636e7f1",
        "outputId": "fcba9c84-4d08-4426-ba3e-b5ebba87c5bf"
      },
      "outputs": [
        {
          "name": "stdout",
          "output_type": "stream",
          "text": [
            "Accuracy  is  :  0.7787261982928431\n",
            "Recall  is    :  0.7591463414634146\n",
            "Precision  is :  0.7355982274741507\n"
          ]
        }
      ],
      "source": [
        "print('Accuracy  is  : ', (metrics.accuracy_score(y_test, y_pred)))\n",
        "print('Recall  is    : ', (metrics.recall_score(y_test, y_pred)))\n",
        "print('Precision  is : ', (metrics.precision_score(y_test, y_pred)))"
      ]
    },
    {
      "cell_type": "code",
      "execution_count": null,
      "id": "d2539be2",
      "metadata": {
        "_kg_hide-input": true,
        "execution": {
          "iopub.execute_input": "2022-09-15T16:27:01.119000Z",
          "iopub.status.busy": "2022-09-15T16:27:01.117819Z",
          "iopub.status.idle": "2022-09-15T16:27:01.127808Z",
          "shell.execute_reply": "2022-09-15T16:27:01.126910Z"
        },
        "papermill": {
          "duration": 0.092002,
          "end_time": "2022-09-15T16:27:01.130286",
          "exception": false,
          "start_time": "2022-09-15T16:27:01.038284",
          "status": "completed"
        },
        "tags": [],
        "id": "d2539be2"
      },
      "outputs": [],
      "source": [
        "def plot_confusion_matrix(cm, classes,\n",
        "                          title='Confusion matrix',\n",
        "                          cmap=plt.cm.Blues):\n",
        "    \"\"\"\n",
        "    This function prints and plots the confusion matrix.\n",
        "    Normalization can be applied by setting `normalize=True`.\n",
        "    \"\"\"\n",
        "\n",
        "    cm = cm.astype('float') / cm.sum(axis=1)[:, np.newaxis]\n",
        "\n",
        "    plt.imshow(cm, interpolation='nearest', cmap=cmap)\n",
        "    plt.title(title, fontsize=30)\n",
        "    plt.colorbar()\n",
        "    tick_marks = np.arange(len(classes))\n",
        "    plt.xticks(tick_marks, classes, rotation=90, fontsize=22)\n",
        "    plt.yticks(tick_marks, classes, fontsize=22)\n",
        "\n",
        "    fmt = '.2f'\n",
        "    thresh = cm.max() / 2.\n",
        "    for i, j in itertools.product(range(cm.shape[0]), range(cm.shape[1])):\n",
        "        plt.text(j, i, format(cm[i, j], fmt),\n",
        "                 horizontalalignment=\"center\",\n",
        "                 color=\"white\" if cm[i, j] > thresh else \"black\")\n",
        "\n",
        "    plt.ylabel('True label', fontsize=25)\n",
        "    plt.xlabel('Predicted label', fontsize=25)"
      ]
    },
    {
      "cell_type": "code",
      "execution_count": null,
      "id": "9a232aba",
      "metadata": {
        "execution": {
          "iopub.execute_input": "2022-09-15T16:27:01.289609Z",
          "iopub.status.busy": "2022-09-15T16:27:01.288951Z",
          "iopub.status.idle": "2022-09-15T16:27:01.603778Z",
          "shell.execute_reply": "2022-09-15T16:27:01.602433Z"
        },
        "papermill": {
          "duration": 0.39685,
          "end_time": "2022-09-15T16:27:01.606272",
          "exception": false,
          "start_time": "2022-09-15T16:27:01.209422",
          "status": "completed"
        },
        "tags": [],
        "id": "9a232aba",
        "outputId": "4045a9f8-0d80-4fde-9792-df7be54b5d99"
      },
      "outputs": [
        {
          "data": {
            "image/png": "[encoded data removed]",
            "text/plain": [
              "<Figure size 864x864 with 2 Axes>"
            ]
          },
          "metadata": {
            "needs_background": "light"
          },
          "output_type": "display_data"
        },
        {
          "name": "stdout",
          "output_type": "stream",
          "text": [
            "CPU times: user 359 ms, sys: 190 ms, total: 550 ms\n",
            "Wall time: 308 ms\n"
          ]
        }
      ],
      "source": [
        "%%time\n",
        "\n",
        "cnf_matrix = confusion_matrix(y_test, y_pred)\n",
        "plt.figure(figsize=(12,12))\n",
        "plot_confusion_matrix(cnf_matrix, classes=y_train.unique(), title=\"Confusion matrix\")\n",
        "plt.show()"
      ]
    },
    {
      "cell_type": "code",
      "execution_count": null,
      "id": "4a50e674",
      "metadata": {
        "execution": {
          "iopub.execute_input": "2022-09-15T16:27:01.764700Z",
          "iopub.status.busy": "2022-09-15T16:27:01.763566Z",
          "iopub.status.idle": "2022-09-15T16:27:01.777191Z",
          "shell.execute_reply": "2022-09-15T16:27:01.775840Z"
        },
        "papermill": {
          "duration": 0.095573,
          "end_time": "2022-09-15T16:27:01.779723",
          "exception": false,
          "start_time": "2022-09-15T16:27:01.684150",
          "status": "completed"
        },
        "tags": [],
        "id": "4a50e674",
        "outputId": "dd8ef339-4738-4f69-f81d-b0044c616544"
      },
      "outputs": [
        {
          "name": "stdout",
          "output_type": "stream",
          "text": [
            "              precision    recall  f1-score   support\n",
            "\n",
            "           0       0.81      0.79      0.80       867\n",
            "           1       0.74      0.76      0.75       656\n",
            "\n",
            "    accuracy                           0.78      1523\n",
            "   macro avg       0.77      0.78      0.78      1523\n",
            "weighted avg       0.78      0.78      0.78      1523\n",
            "\n"
          ]
        }
      ],
      "source": [
        "print(classification_report(y_test, y_pred))"
      ]
    },
    {
      "cell_type": "code",
      "execution_count": null,
      "id": "167593ef",
      "metadata": {
        "execution": {
          "iopub.execute_input": "2022-09-15T16:27:02.099085Z",
          "iopub.status.busy": "2022-09-15T16:27:02.097923Z",
          "iopub.status.idle": "2022-09-15T16:27:02.381343Z",
          "shell.execute_reply": "2022-09-15T16:27:02.380401Z"
        },
        "papermill": {
          "duration": 0.365954,
          "end_time": "2022-09-15T16:27:02.384218",
          "exception": false,
          "start_time": "2022-09-15T16:27:02.018264",
          "status": "completed"
        },
        "tags": [],
        "id": "167593ef"
      },
      "outputs": [],
      "source": [
        "l =50\n",
        "max_features=5000\n",
        "tokenizer=Tokenizer(num_words=max_features,split=' ')\n",
        "tokenizer.fit_on_texts(treated_train['lemma_str'].values)\n",
        "X = tokenizer.texts_to_sequences(treated_train['lemma_str'].values)\n",
        "X = pad_sequences(X, maxlen =l)"
      ]
    },
    {
      "cell_type": "code",
      "execution_count": null,
      "id": "db0d85a0",
      "metadata": {
        "execution": {
          "iopub.execute_input": "2022-09-15T16:27:02.542441Z",
          "iopub.status.busy": "2022-09-15T16:27:02.541975Z",
          "iopub.status.idle": "2022-09-15T16:27:02.754798Z",
          "shell.execute_reply": "2022-09-15T16:27:02.753375Z"
        },
        "papermill": {
          "duration": 0.295158,
          "end_time": "2022-09-15T16:27:02.757689",
          "exception": false,
          "start_time": "2022-09-15T16:27:02.462531",
          "status": "completed"
        },
        "tags": [],
        "id": "db0d85a0"
      },
      "outputs": [],
      "source": [
        "tokenizer.fit_on_texts(treated_train['lemma_str'].values)\n",
        "test_token = tokenizer.texts_to_sequences(treated_test['lemma_str'].values)\n",
        "test_token = pad_sequences(test_token, maxlen =l)"
      ]
    },
    {
      "cell_type": "code",
      "execution_count": null,
      "id": "b6ff570f",
      "metadata": {
        "execution": {
          "iopub.execute_input": "2022-09-15T16:27:02.917811Z",
          "iopub.status.busy": "2022-09-15T16:27:02.917389Z",
          "iopub.status.idle": "2022-09-15T16:27:03.198604Z",
          "shell.execute_reply": "2022-09-15T16:27:03.197425Z"
        },
        "papermill": {
          "duration": 0.365088,
          "end_time": "2022-09-15T16:27:03.201717",
          "exception": false,
          "start_time": "2022-09-15T16:27:02.836629",
          "status": "completed"
        },
        "tags": [],
        "id": "b6ff570f",
        "outputId": "a02751a2-cef9-4cdb-cdec-aeafe9dddf0b"
      },
      "outputs": [
        {
          "name": "stdout",
          "output_type": "stream",
          "text": [
            "Model: \"sequential_1\"\n",
            "_________________________________________________________________\n",
            "Layer (type)                 Output Shape              Param #   \n",
            "=================================================================\n",
            "embedding_1 (Embedding)      (None, 50, 100)           500000    \n",
            "_________________________________________________________________\n",
            "dropout_1 (Dropout)          (None, 50, 100)           0         \n",
            "_________________________________________________________________\n",
            "lstm_1 (LSTM)                (None, 50, 100)           80400     \n",
            "_________________________________________________________________\n",
            "dropout_2 (Dropout)          (None, 50, 100)           0         \n",
            "_________________________________________________________________\n",
            "lstm_2 (LSTM)                (None, 100)               80400     \n",
            "_________________________________________________________________\n",
            "dropout_3 (Dropout)          (None, 100)               0         \n",
            "_________________________________________________________________\n",
            "dense_1 (Dense)              (None, 1)                 101       \n",
            "=================================================================\n",
            "Total params: 660,901\n",
            "Trainable params: 660,901\n",
            "Non-trainable params: 0\n",
            "_________________________________________________________________\n",
            "None\n"
          ]
        }
      ],
      "source": [
        "embed_dim = 100\n",
        "lstm_out = 100\n",
        "model = Sequential()\n",
        "model.add(Embedding(max_features, embed_dim,input_length = X.shape[1]))\n",
        "model.add(Dropout(0.2))\n",
        "model.add(LSTM(lstm_out, dropout=0.2, return_sequences=True,recurrent_dropout=0.4))\n",
        "model.add(Dropout(0.2))\n",
        "model.add(LSTM(lstm_out,dropout=0.2, recurrent_dropout=0.2))\n",
        "model.add(Dropout(0.2))\n",
        "model.add(Dense(1,activation='sigmoid'))\n",
        "adam = optimizers.Adam(learning_rate=2e-3)\n",
        "model.compile(loss = 'binary_crossentropy', optimizer=adam ,metrics = ['accuracy'])\n",
        "print(model.summary())"
      ]
    },
    {
      "cell_type": "code",
      "execution_count": null,
      "id": "1e6657e4",
      "metadata": {
        "execution": {
          "iopub.execute_input": "2022-09-15T16:27:03.362048Z",
          "iopub.status.busy": "2022-09-15T16:27:03.361317Z",
          "iopub.status.idle": "2022-09-15T16:41:32.466539Z",
          "shell.execute_reply": "2022-09-15T16:41:32.465358Z"
        },
        "papermill": {
          "duration": 869.389644,
          "end_time": "2022-09-15T16:41:32.670838",
          "exception": false,
          "start_time": "2022-09-15T16:27:03.281194",
          "status": "completed"
        },
        "tags": [],
        "id": "1e6657e4",
        "outputId": "cae5ec80-1673-4d84-ca06-6ec1f7400d8e"
      },
      "outputs": [
        {
          "name": "stdout",
          "output_type": "stream",
          "text": [
            "Epoch 1/10\n",
            "191/191 [==============================] - 88s 423ms/step - loss: 0.5239 - accuracy: 0.7392 - val_loss: 0.4810 - val_accuracy: 0.7807\n",
            "Epoch 2/10\n",
            "191/191 [==============================] - 82s 430ms/step - loss: 0.3552 - accuracy: 0.8544 - val_loss: 0.4921 - val_accuracy: 0.7708\n",
            "Epoch 3/10\n",
            "191/191 [==============================] - 81s 423ms/step - loss: 0.2805 - accuracy: 0.8901 - val_loss: 0.6120 - val_accuracy: 0.7380\n",
            "Epoch 4/10\n",
            "191/191 [==============================] - 82s 430ms/step - loss: 0.2124 - accuracy: 0.9207 - val_loss: 0.6540 - val_accuracy: 0.7131\n",
            "Epoch 5/10\n",
            "191/191 [==============================] - 84s 439ms/step - loss: 0.1720 - accuracy: 0.9361 - val_loss: 0.7098 - val_accuracy: 0.7498\n",
            "Epoch 6/10\n",
            "191/191 [==============================] - 83s 437ms/step - loss: 0.1391 - accuracy: 0.9453 - val_loss: 0.9342 - val_accuracy: 0.7360\n",
            "Epoch 7/10\n",
            "191/191 [==============================] - 82s 431ms/step - loss: 0.0901 - accuracy: 0.9642 - val_loss: 1.1451 - val_accuracy: 0.7367\n",
            "Epoch 8/10\n",
            "191/191 [==============================] - 83s 433ms/step - loss: 0.0842 - accuracy: 0.9655 - val_loss: 1.2098 - val_accuracy: 0.7374\n",
            "Epoch 9/10\n",
            "191/191 [==============================] - 84s 437ms/step - loss: 0.0769 - accuracy: 0.9663 - val_loss: 1.3349 - val_accuracy: 0.7380\n",
            "Epoch 10/10\n",
            "191/191 [==============================] - 83s 436ms/step - loss: 0.0741 - accuracy: 0.9685 - val_loss: 1.4314 - val_accuracy: 0.7328\n"
          ]
        },
        {
          "data": {
            "text/plain": [
              "<keras.callbacks.History at 0x7fc776773150>"
            ]
          },
          "execution_count": 39,
          "metadata": {},
          "output_type": "execute_result"
        }
      ],
      "source": [
        "model.fit(X,y, epochs = 10,validation_split = 0.2 ,callbacks=[callbacks], batch_size=32)"
      ]
    },
    {
      "cell_type": "code",
      "execution_count": null,
      "id": "9dae4876",
      "metadata": {
        "execution": {
          "iopub.execute_input": "2022-09-15T16:41:33.069106Z",
          "iopub.status.busy": "2022-09-15T16:41:33.068678Z",
          "iopub.status.idle": "2022-09-15T16:41:42.299196Z",
          "shell.execute_reply": "2022-09-15T16:41:42.297996Z"
        },
        "papermill": {
          "duration": 9.433405,
          "end_time": "2022-09-15T16:41:42.301665",
          "exception": false,
          "start_time": "2022-09-15T16:41:32.868260",
          "status": "completed"
        },
        "tags": [],
        "id": "9dae4876",
        "outputId": "1eb9d474-9e08-49c8-d308-75dd848c83d9"
      },
      "outputs": [
        {
          "data": {
            "text/html": [
              "<style type=\"text/css\">\n",
              "#T_29bf1_row0_col0 {\n",
              "  background-color: #9ebeff;\n",
              "  color: #000000;\n",
              "}\n",
              "#T_29bf1_row0_col1, #T_29bf1_row7_col0 {\n",
              "  background-color: #b40426;\n",
              "  color: #f1f1f1;\n",
              "}\n",
              "#T_29bf1_row1_col0 {\n",
              "  background-color: #dcdddd;\n",
              "  color: #000000;\n",
              "}\n",
              "#T_29bf1_row1_col1, #T_29bf1_row2_col1, #T_29bf1_row3_col0, #T_29bf1_row3_col1, #T_29bf1_row4_col1, #T_29bf1_row5_col1, #T_29bf1_row6_col1, #T_29bf1_row7_col1 {\n",
              "  background-color: #3b4cc0;\n",
              "  color: #f1f1f1;\n",
              "}\n",
              "#T_29bf1_row2_col0 {\n",
              "  background-color: #9bbcff;\n",
              "  color: #000000;\n",
              "}\n",
              "#T_29bf1_row4_col0 {\n",
              "  background-color: #8caffe;\n",
              "  color: #000000;\n",
              "}\n",
              "#T_29bf1_row5_col0 {\n",
              "  background-color: #dedcdb;\n",
              "  color: #000000;\n",
              "}\n",
              "#T_29bf1_row6_col0 {\n",
              "  background-color: #f4987a;\n",
              "  color: #000000;\n",
              "}\n",
              "</style>\n",
              "<table id=\"T_29bf1_\">\n",
              "  <thead>\n",
              "    <tr>\n",
              "      <th class=\"blank level0\" >&nbsp;</th>\n",
              "      <th class=\"col_heading level0 col0\" >id</th>\n",
              "      <th class=\"col_heading level0 col1\" >target</th>\n",
              "    </tr>\n",
              "  </thead>\n",
              "  <tbody>\n",
              "    <tr>\n",
              "      <th id=\"T_29bf1_level0_row0\" class=\"row_heading level0 row0\" >count</th>\n",
              "      <td id=\"T_29bf1_row0_col0\" class=\"data row0 col0\" >3263.000000</td>\n",
              "      <td id=\"T_29bf1_row0_col1\" class=\"data row0 col1\" >3263.000000</td>\n",
              "    </tr>\n",
              "    <tr>\n",
              "      <th id=\"T_29bf1_level0_row1\" class=\"row_heading level0 row1\" >mean</th>\n",
              "      <td id=\"T_29bf1_row1_col0\" class=\"data row1 col0\" >5427.152927</td>\n",
              "      <td id=\"T_29bf1_row1_col1\" class=\"data row1 col1\" >0.415875</td>\n",
              "    </tr>\n",
              "    <tr>\n",
              "      <th id=\"T_29bf1_level0_row2\" class=\"row_heading level0 row2\" >std</th>\n",
              "      <td id=\"T_29bf1_row2_col0\" class=\"data row2 col0\" >3146.427221</td>\n",
              "      <td id=\"T_29bf1_row2_col1\" class=\"data row2 col1\" >0.492948</td>\n",
              "    </tr>\n",
              "    <tr>\n",
              "      <th id=\"T_29bf1_level0_row3\" class=\"row_heading level0 row3\" >min</th>\n",
              "      <td id=\"T_29bf1_row3_col0\" class=\"data row3 col0\" >0.000000</td>\n",
              "      <td id=\"T_29bf1_row3_col1\" class=\"data row3 col1\" >0.000000</td>\n",
              "    </tr>\n",
              "    <tr>\n",
              "      <th id=\"T_29bf1_level0_row4\" class=\"row_heading level0 row4\" >25%</th>\n",
              "      <td id=\"T_29bf1_row4_col0\" class=\"data row4 col0\" >2683.000000</td>\n",
              "      <td id=\"T_29bf1_row4_col1\" class=\"data row4 col1\" >0.000000</td>\n",
              "    </tr>\n",
              "    <tr>\n",
              "      <th id=\"T_29bf1_level0_row5\" class=\"row_heading level0 row5\" >50%</th>\n",
              "      <td id=\"T_29bf1_row5_col0\" class=\"data row5 col0\" >5500.000000</td>\n",
              "      <td id=\"T_29bf1_row5_col1\" class=\"data row5 col1\" >0.000000</td>\n",
              "    </tr>\n",
              "    <tr>\n",
              "      <th id=\"T_29bf1_level0_row6\" class=\"row_heading level0 row6\" >75%</th>\n",
              "      <td id=\"T_29bf1_row6_col0\" class=\"data row6 col0\" >8176.000000</td>\n",
              "      <td id=\"T_29bf1_row6_col1\" class=\"data row6 col1\" >1.000000</td>\n",
              "    </tr>\n",
              "    <tr>\n",
              "      <th id=\"T_29bf1_level0_row7\" class=\"row_heading level0 row7\" >max</th>\n",
              "      <td id=\"T_29bf1_row7_col0\" class=\"data row7 col0\" >10875.000000</td>\n",
              "      <td id=\"T_29bf1_row7_col1\" class=\"data row7 col1\" >1.000000</td>\n",
              "    </tr>\n",
              "  </tbody>\n",
              "</table>\n"
            ],
            "text/plain": [
              "<pandas.io.formats.style.Styler at 0x7fc74f7c4890>"
            ]
          },
          "execution_count": 40,
          "metadata": {},
          "output_type": "execute_result"
        }
      ],
      "source": [
        "y_hat = model.predict(test_token).round()\n",
        "sub['target'] = np.round(y_hat).astype('int')\n",
        "sub.to_csv('submission.csv', index=False)\n",
        "sub.describe().style.background_gradient(cmap='coolwarm')"
      ]
    },
    {
      "cell_type": "code",
      "execution_count": null,
      "id": "80520f17",
      "metadata": {
        "execution": {
          "iopub.execute_input": "2022-09-15T16:41:42.699747Z",
          "iopub.status.busy": "2022-09-15T16:41:42.698970Z",
          "iopub.status.idle": "2022-09-15T16:41:42.910763Z",
          "shell.execute_reply": "2022-09-15T16:41:42.909377Z"
        },
        "papermill": {
          "duration": 0.413799,
          "end_time": "2022-09-15T16:41:42.913400",
          "exception": false,
          "start_time": "2022-09-15T16:41:42.499601",
          "status": "completed"
        },
        "tags": [],
        "id": "80520f17",
        "outputId": "f1f3760a-d788-40ff-d1bb-54d724538e74"
      },
      "outputs": [
        {
          "data": {
            "image/png": "[encoded data removed]",
            "text/plain": [
              "<Figure size 432x288 with 1 Axes>"
            ]
          },
          "metadata": {
            "needs_background": "light"
          },
          "output_type": "display_data"
        }
      ],
      "source": [
        "sub.target.value_counts().plot.bar();"
      ]
    }
  ],
  "metadata": {
    "kernelspec": {
      "display_name": "Python 3",
      "language": "python",
      "name": "python3"
    },
    "language_info": {
      "codemirror_mode": {
        "name": "ipython",
        "version": 3
      },
      "file_extension": ".py",
      "mimetype": "text/x-python",
      "name": "python",
      "nbconvert_exporter": "python",
      "pygments_lexer": "ipython3",
      "version": "3.7.12"
    },
    "papermill": {
      "default_parameters": {},
      "duration": 999.805529,
      "end_time": "2022-09-15T16:41:46.585660",
      "environment_variables": {},
      "exception": null,
      "input_path": "__notebook__.ipynb",
      "output_path": "__notebook__.ipynb",
      "parameters": {},
      "start_time": "2022-09-15T16:25:06.780131",
      "version": "2.3.4"
    },
    "colab": {
      "provenance": [],
      "include_colab_link": true
    }
  },
  "nbformat": 4,
  "nbformat_minor": 5
}